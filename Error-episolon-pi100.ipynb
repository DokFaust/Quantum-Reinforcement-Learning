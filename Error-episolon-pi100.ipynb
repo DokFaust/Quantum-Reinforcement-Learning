{
 "cells": [
  {
   "cell_type": "code",
   "execution_count": 1,
   "metadata": {
    "collapsed": true
   },
   "outputs": [],
   "source": [
    "from qutip import *\n",
    "import numpy as np\n",
    "import matplotlib.pyplot as plt\n",
    "import math\n",
    "import random\n",
    "from numpy import pi, sqrt\n",
    "\n",
    "np.set_printoptions(suppress=True)"
   ]
  },
  {
   "cell_type": "code",
   "execution_count": 2,
   "metadata": {
    "collapsed": true
   },
   "outputs": [],
   "source": [
    "def measure(state, size=1):\n",
    "    \"\"\"For a given state returns a measurement (or \\'size\\' measurements, if specified) of the state in\n",
    "    the computational basis along with its wavefunction (probabilities of each outcome)\"\"\"\n",
    "    n = state.shape[0]\n",
    "    probs = np.abs(state.dag().full())**2\n",
    "    probs = probs.reshape(n)\n",
    "    if size>1:\n",
    "        draw = np.random.choice(n,p=probs,size=size)\n",
    "    else:\n",
    "        draw = np.random.choice(n,p=probs)\n",
    "    return(draw,list(probs))"
   ]
  },
  {
   "cell_type": "code",
   "execution_count": 21,
   "metadata": {
    "scrolled": false
   },
   "outputs": [
    {
     "name": "stdout",
     "output_type": "stream",
     "text": [
      "12 %\n",
      "18 %\n",
      "25 %\n",
      "31 %\n",
      "37 %\n",
      "43 %\n",
      "50 %\n",
      "56 %\n",
      "62 %\n",
      "68 %\n",
      "75 %\n",
      "81 %\n",
      "87 %\n",
      "93 %\n",
      "done\n"
     ]
    }
   ],
   "source": [
    "R1 = tensor(basis(2,0),basis(2,0))\n",
    "R2 = tensor(basis(2,0),basis(2,0))\n",
    "R = tensor(R1,R2)\n",
    "\n",
    "n = 4\n",
    "nb_agnts = 1000\n",
    "sgm = pi/100\n",
    "\n",
    "Aux = basis(2,0)\n",
    "Auxs = [Aux]\n",
    "for i in range(n+1):\n",
    "    Aux = tensor(basis(2,0),Aux)\n",
    "    Auxs += [Aux]\n",
    "    \n",
    "eye = qeye(2)\n",
    "eyes = [eye]\n",
    "for i in range(n+6):\n",
    "    eye = tensor(qeye(2),eye)\n",
    "    eyes += [eye]\n",
    "\n",
    "def err(sigma):\n",
    "    return(random.gauss(0, sigma))\n",
    "\n",
    "X = Qobj([[0,1],[1,0]])\n",
    "def MS(chi, sgm):\n",
    "    prm = chi + err(sgm)\n",
    "    return(np.cos(prm)*tensor(qeye(2),qeye(2)) -1j * np.sin(prm)*tensor(X,X))\n",
    "\n",
    "def D0(sgm):\n",
    "    return(tensor(ry(pi/2+err(sgm)),qeye(2))*tensor(qeye(2),ry(pi/2+err(sgm)))*MS(pi/4,sgm)*tensor(rx(-pi/2+err(sgm)),qeye(2))*tensor(qeye(2),rx(-pi/2+err(sgm)))*tensor(ry(-pi/2+err(sgm)),qeye(2))*tensor(qeye(2),ry(-pi/2+err(sgm))))\n",
    "\n",
    "def H(sgm):\n",
    "    return(rx(-pi/2+err(sgm))*rz(-pi/2+err(sgm))*rx(-pi/2+err(sgm)))\n",
    "\n",
    "def gen_Hs(nb,sgm):\n",
    "    Hs = H(sgm)\n",
    "    for i in range(nb):\n",
    "        Hs = tensor(Hs,H(sgm))\n",
    "    return(Hs)\n",
    "\n",
    "def gen_Us(p1,p2,lmbd,prv1,prv2,prv3,sgm):\n",
    "    Ut3 = controlled_gate(ry(pi/2 + err(sgm)))\n",
    "    Ut1 = tensor(ry(2*math.acos(sqrt(p1+p2)) + err(sgm)),qeye(2))\n",
    "    Ut2 = controlled_gate(ry(2*math.acos(sqrt(p1/(p1+p2))) + err(sgm)), control_value=0)\n",
    "    Ut2b = controlled_gate(ry(2*math.acos(sqrt((p1+lmbd)/(p1+p2))) + err(sgm)), control_value=0)\n",
    "    \n",
    "    Urt3 = controlled_gate(ry(pi/2 + err(sgm)))\n",
    "    Urt1 = tensor(ry(2*math.acos(sqrt(prv1[0]+prv1[1])) + err(sgm)),qeye(2))\n",
    "    Urt1b = tensor(ry(2*math.acos(sqrt(prv2[0]+prv2[1])) + err(sgm)),qeye(2))\n",
    "    Urt1c = tensor(ry(2*math.acos(sqrt(prv3[0]+prv3[1])) + err(sgm)),qeye(2))\n",
    "    Urt2 = controlled_gate(ry(2*math.acos(sqrt(prv1[0]/(prv1[0]+prv1[1]))) + err(sgm)), control_value=0)\n",
    "    Urt2b = controlled_gate(ry(2*math.acos(sqrt(prv2[0]/(prv2[0]+prv2[1]))) + err(sgm)), control_value=0)\n",
    "    Urt2c = controlled_gate(ry(2*math.acos(sqrt(prv3[0]/(prv3[0]+prv3[1]))) + err(sgm)), control_value=0)\n",
    "    return(Ut3*Ut2b*Ut1,Ut3*Ut2*Ut1,Urt3*Urt2*Urt1,Urt3*Urt2b*Urt1b,Urt3*Urt2c*Urt1c)\n",
    "\n",
    "def gen_W(p1,p2,lmbd,prv1,prv2,prv3,sgm):\n",
    "    U1,U2,Ur1,Ur2,Ur3 = gen_Us(p1,p2,lmbd,prv1,prv2,prv3,sgm)\n",
    "    U1tempc00 = tensor(tensor(fock_dm(2, 0), fock_dm(2, 0)),U1*U2.dag()-eyes[1])+eyes[3]\n",
    "    Ur1c00 = tensor(tensor(fock_dm(2, 0), fock_dm(2, 0)),Ur1*Ur3.dag()-eyes[1])+eyes[3]\n",
    "    Ur2c01 = tensor(tensor(fock_dm(2, 0), fock_dm(2, 1)),Ur2*Ur3.dag()-eyes[1])+eyes[3]\n",
    "    Up = U1tempc00*tensor(eyes[1],U2)\n",
    "    Vp_temp = Ur1c00*Ur2c01*tensor(eyes[1],Ur3)\n",
    "    Vp = swap(N=4, targets=[0, 2])*swap(N=4, targets=[1, 3])*Vp_temp*swap(N=4, targets=[0, 2])*swap(N=4, targets=[1, 3])\n",
    "    refA = Up*tensor(eyes[1],D0(sgm))*Up.dag()\n",
    "    refB = Vp*tensor(D0(sgm),eyes[1])*Vp.dag()\n",
    "    return(refB*refA,Up)\n",
    "    \n",
    "def gen_Ws(p1,p2,lmbd,prv1,prv2,prv3,sgm,kk):\n",
    "    W,_ = gen_W(p1,p2,lmbd,prv1,prv2,prv3,sgm)\n",
    "    Ws = [tensor(fock_dm(2,1),W-eyes[3])+eyes[4]]\n",
    "    for i in range(1,kk):\n",
    "        W,_ = gen_W(p1,p2,lmbd,prv1,prv2,prv3,sgm)\n",
    "        Ws += [tensor(fock_dm(2,1),tensor(eyes[i-1],W**(2**i))-eyes[i+3])+eyes[i+4]]\n",
    "    W,_ = gen_W(p1,p2,lmbd,prv1,prv2,prv3,sgm)\n",
    "    Ws+=[tensor(fock_dm(2,1),tensor(eyes[kk-1],W**(2**kk))-eyes[kk+3])+eyes[kk+4]]\n",
    "    return(Ws)\n",
    "\n",
    "def gen_Wcs(Ws, c, kk):\n",
    "    tmp = random.randint(0, c)\n",
    "    binary = [int(x) for x in bin(tmp)[2:]][::-1]\n",
    "    binary = binary + [0]*(kk+1-len(binary))\n",
    "    Wcs=[]\n",
    "    for i, b in enumerate(binary[:-1]):\n",
    "        if b:\n",
    "            Wcs += [tensor(eyes[kk-i-1],Ws[i])]\n",
    "        else:\n",
    "            Wcs += [False]\n",
    "    if binary[-1]:\n",
    "        Wcs += [Ws[-1]]\n",
    "    return(Wcs, tmp*4)\n",
    "\n",
    "NUss = []\n",
    "deltas = []\n",
    "old_perc = 0\n",
    "for c in range(2,2**n):\n",
    "    k = math.log2(c)\n",
    "    lmbd = 1 - 2**(-2*k)\n",
    "    deltas += [1-lmbd]\n",
    "    p2 = lmbd\n",
    "    p1 = (1-lmbd)/4\n",
    "    p3 = 1-p1-p2\n",
    "    distrib = [p1,p2,p3/2,p3/2]\n",
    "    \n",
    "    Pb = np.array([distrib]*4).transpose()\n",
    "    Pb[0][0] += lmbd\n",
    "    Pb[1][0] -= lmbd\n",
    "    stat_distrib = [p1/(1-lmbd),p2-p1*lmbd/(1-lmbd),p3/2,p3/2]\n",
    "    Pb_rvrs = Pb*np.array(stat_distrib)\n",
    "    Pb_rvrs = Pb_rvrs.transpose()/np.array(stat_distrib)\n",
    "\n",
    "    prv1 = Pb_rvrs[:,0]\n",
    "    prv2 = Pb_rvrs[:,1]\n",
    "    prv3 = Pb_rvrs[:,2]\n",
    "    \n",
    "    kk = math.ceil(k)\n",
    "    # nb ancilla = kk+1, position kk in lists\n",
    "\n",
    "    nullaux = Auxs[kk]\n",
    "    D0aux = 2*nullaux*nullaux.dag()-eyes[kk]\n",
    "    stat_1 = sqrt(p1/(1-lmbd))*tensor(basis(2,0),basis(2,0))+sqrt(p2-p1*lmbd/(1-lmbd))*tensor(basis(2,0),basis(2,1))+sqrt(p3/2)*tensor(basis(2,1),basis(2,0))+sqrt(p3/2)*tensor(basis(2,1),basis(2,1))\n",
    "    Up = gen_W(p1,p2,lmbd,prv1,prv2,prv3,sgm)[1]\n",
    "    stat = Up*tensor(stat_1,R2)\n",
    "    refAct = tensor(eyes[kk],tensor(D0(sgm),eyes[1]))\n",
    "    Memb = tensor(Auxs[kk], stat)\n",
    "    \n",
    "    NUs = []\n",
    "    for a in range(nb_agnts):\n",
    "        Ws = gen_Ws(p1,p2,lmbd,prv1,prv2,prv3,sgm,kk)\n",
    "        NU = 0\n",
    "        fnd = False\n",
    "        while not fnd:\n",
    "            Wcs, nb_calls = gen_Wcs(Ws, c, kk)\n",
    "            NU += nb_calls\n",
    "\n",
    "            PD = tensor(gen_Hs(kk,sgm),eyes[3])\n",
    "            for Wc in Wcs:\n",
    "                if Wc!=False:\n",
    "                    PD = Wc*PD\n",
    "            PD = tensor(gen_Hs(kk,sgm),eyes[3])*PD\n",
    "            ARO = PD.dag()*tensor(D0aux,eyes[3])*PD\n",
    "\n",
    "            res = np.array(measure(ARO*refAct*Memb)[1])\n",
    "            res = res.reshape(int(len(res)/16),16)\n",
    "            res = np.sum(res, axis = 0).reshape(4,4)\n",
    "            res = np.sum(res, axis = 0)\n",
    "            mes = measure(Qobj(np.sqrt(res)))[0]\n",
    "            if mes == 0:\n",
    "                fnd = True\n",
    "        NUs+=[NU]\n",
    "    NUss+=[NUs]\n",
    "    perc = 100*c/2**n\n",
    "    if perc >= old_perc+5:\n",
    "        old_perc = 20*int(perc/20)\n",
    "        print(int(perc),\"%\")\n",
    "print(\"done\")"
   ]
  },
  {
   "cell_type": "code",
   "execution_count": 22,
   "metadata": {
    "collapsed": true
   },
   "outputs": [],
   "source": [
    "import pickle\n",
    "f = open('simulation_delta_error-pi-100.save', 'wb')\n",
    "pickle.dump([deltas, NUss], f)\n",
    "f.close()"
   ]
  },
  {
   "cell_type": "code",
   "execution_count": 2,
   "metadata": {
    "collapsed": true
   },
   "outputs": [],
   "source": [
    "import pickle\n",
    "file = open('simulation_delta_error-pi-100.save', 'rb')\n",
    "[deltas, NUss] = pickle.load(file)\n",
    "file.close()"
   ]
  },
  {
   "cell_type": "code",
   "execution_count": 7,
   "metadata": {},
   "outputs": [
    {
     "data": {
      "image/png": "[encoded data removed]",
      "text/plain": [
       "<matplotlib.figure.Figure at 0xf9c2a92160>"
      ]
     },
     "metadata": {},
     "output_type": "display_data"
    },
    {
     "name": "stdout",
     "output_type": "stream",
     "text": [
      "Curve fitting coefficients :  [ 7.14175824 -7.95037363]\n",
      "Coefficient of determination R^2 :  0.990926419316\n"
     ]
    }
   ],
   "source": [
    "NUss_mean = []\n",
    "NUss_std = []\n",
    "for NUs in NUss:\n",
    "    NUss_mean+=[np.mean(NUs)]\n",
    "    NUss_std+=[np.std(NUs)]\n",
    "\n",
    "curve_fit = np.polyfit(1/np.sqrt(deltas), NUss_mean, 1, full=True)\n",
    "coeff = curve_fit[0]\n",
    "res = curve_fit[1][0]\n",
    "rsqr = 1 - res / (len(NUss_mean) * np.var(NUss_mean))\n",
    "\n",
    "plt.figure(figsize=(17,8))\n",
    "results, = plt.plot(deltas, NUss_mean, label='Simulation results ($\\sigma=\\pi/100$)')\n",
    "model, = plt.plot(deltas, coeff[0]/np.sqrt(deltas)+coeff[1], label='Regression model $1/\\sqrt{\\delta}$')\n",
    "errbar = plt.errorbar(deltas, NUss_mean, NUss_std, ecolor='c', linestyle='None', marker='+', capsize=3, label='Standard deviation')\n",
    "axes = plt.gca()\n",
    "axes.set_ylim([0,200])\n",
    "axes.set_xlim([0,0.25])\n",
    "\n",
    "plt.legend(handles=[results, model, errbar])\n",
    "plt.text(0.15,45,'Regression coefficients: '+str(coeff)+'\\nCoeff of determination $R^2$: '+str(rsqr),bbox=dict(facecolor='white',edgecolor='black',boxstyle='square'))\n",
    "\n",
    "plt.xlabel('$\\delta$', fontsize=14)\n",
    "plt.ylabel('$N_U$', fontsize=14)\n",
    "plt.grid(True)\n",
    "plt.show()\n",
    "print(\"Curve fitting coefficients : \", coeff)\n",
    "print('Coefficient of determination R^2 : ', rsqr)"
   ]
  },
  {
   "cell_type": "code",
   "execution_count": null,
   "metadata": {
    "collapsed": true
   },
   "outputs": [],
   "source": []
  }
 ],
 "metadata": {
  "kernelspec": {
   "display_name": "Python 3",
   "language": "python",
   "name": "python3"
  },
  "language_info": {
   "codemirror_mode": {
    "name": "ipython",
    "version": 3
   },
   "file_extension": ".py",
   "mimetype": "text/x-python",
   "name": "python",
   "nbconvert_exporter": "python",
   "pygments_lexer": "ipython3",
   "version": "3.5.4"
  }
 },
 "nbformat": 4,
 "nbformat_minor": 2
}
