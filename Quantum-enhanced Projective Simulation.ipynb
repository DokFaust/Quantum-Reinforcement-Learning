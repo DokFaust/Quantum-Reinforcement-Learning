{
 "cells": [
  {
   "cell_type": "markdown",
   "metadata": {},
   "source": [
    "# Investigating the quadratic speed-up of Quantum-enhanced Reflective Projective Simulation\n",
    "\n",
    "Sofiène Jerbi (sofiene.jerbi@telecom-paristech.fr)"
   ]
  },
  {
   "cell_type": "code",
   "execution_count": 1,
   "metadata": {
    "collapsed": true
   },
   "outputs": [],
   "source": [
    "from qutip import *\n",
    "import numpy as np\n",
    "import matplotlib.pyplot as plt\n",
    "import math\n",
    "import random\n",
    "from numpy import pi, sqrt"
   ]
  },
  {
   "cell_type": "markdown",
   "metadata": {},
   "source": [
    "A useful function we define to be used all along the notebook."
   ]
  },
  {
   "cell_type": "code",
   "execution_count": 132,
   "metadata": {
    "collapsed": true
   },
   "outputs": [],
   "source": [
    "def measure(state, size=1):\n",
    "    \"\"\"For a given state returns a measurement (or \\'size\\' measurements, if specified) of the state in\n",
    "    the computational basis along with its wavefunction (probabilities of each outcome)\"\"\"\n",
    "    n = state.shape[0]\n",
    "    probs = np.abs(state.dag().full())**2\n",
    "    probs = probs.reshape(n)\n",
    "    if size>1:\n",
    "        draw = np.random.choice(n,p=probs,size=size)\n",
    "    else:\n",
    "        draw = np.random.choice(n,p=probs)\n",
    "    return(draw,list(probs))"
   ]
  },
  {
   "cell_type": "code",
   "execution_count": 3,
   "metadata": {},
   "outputs": [
    {
     "name": "stdout",
     "output_type": "stream",
     "text": [
      "(0, [0.49999999999999989, 0.49999999999999989])\n"
     ]
    }
   ],
   "source": [
    "bell = (basis(2,0)+basis(2,1))/math.sqrt(2)\n",
    "print(measure(bell))"
   ]
  },
  {
   "cell_type": "markdown",
   "metadata": {},
   "source": [
    "<h1>Rank-One Reflecting PS</h1>"
   ]
  },
  {
   "cell_type": "markdown",
   "metadata": {},
   "source": [
    "The aim of the following part if to show how quantum-enhancement allows to keep one the good features of PS, its reactivity to environment changes, even when adding an additional structure (Reflecting PS and flags) that increases learning efficiency but induces longer deliberation times, especially in the case of changes in the environment.\n",
    "Let us set the context and explain this further:\n",
    "\n",
    "We consider the case where the transition matrix $P$ associated to the MCs of the percept-specific sub-networks of the \"two-layered\" RPS agent's ECM have rank one. As specified in the appendix of https://arxiv.org/pdf/1407.2830.pdf this leads to many simplifications:\n",
    "- The columns of $P$ are all identical, equal to the stationnary distribution, so all unitaries $U_i$ are the same equal to $U$ (given by formula A.1)\n",
    "- $P$ has only one eigenvalue (+1) and one eigenvector (the stationnary distribution) which leads to a spectral gap $\\delta = 1$\n",
    "- The Markov chain mixes in one step\n",
    "- The Szegedy Walk operator becomes $W(P) = UD_0U^\\dagger$ and is hermitian, then exact reflection over the stationary distribution can be achieved by applying $W(P)$ once on only one register\n",
    "\n",
    "We deal with the simple \"Invasion game\" with a set of three percepts and three actions. We focus on the sub-network associated to one percept but our results apply also for the other percepts by the rank-one induced symmetry. We define the stationnary action probabilities $\\pi = (\\pi_1,\\pi_2,\\pi_3)$ and add the *flags* (or *emoticons*) structure to the network, increasing the learning efficiency of the agent but inducing a longer deliberation time to output an action because of the multiple reflections the RPS agent has to go through to output a *flagged* action. This number of reflections is determined by $epsilon = \\sum_{i\\in F} \\pi_i$ the relative probability of flagged actions within the stationnary distribution, scaling as $\\tilde{O}(1/\\sqrt{\\epsilon})$ for the quantum RPS agent and as $\\tilde{O}(1/\\epsilon)$ for the classical RPS agent.\n",
    "\n",
    "To exhibit the better reactivity of quantum RS to environment changes, which happens to be the case when epsilon is the smallest (so when the difference in the dependencies on $\\epsilon$ is the largest), we deal with the change in strategy of the adversary (i.e. the environment) by permuting the meaning of percepts. Suppose the adversary pursues a consistent strategy (i.e. gives the same hints, or percepts, to the agent before each of its moves) for a long period of time. The agent would have learned well, which means that for a given percept he would associated with high probability an action (i.e. $\\pi_3 >> \\pi_1 +\\pi_2$ for example) and only the action clip associated to $\\pi_3$ would be flagged. Then the adversary changes his strategy, which means that now the flagged actions are reset, and become (after one unsuccessful trial on the action associated to $\\pi_3$) the actions clips associated to $\\pi_1$ and $\\pi_2$, with cumulated probability $\\epsilon = \\pi_1 +\\pi_2 << 1$.\n",
    "\n",
    "Let's now dig into the simulation!"
   ]
  },
  {
   "cell_type": "code",
   "execution_count": 408,
   "metadata": {
    "collapsed": true
   },
   "outputs": [],
   "source": [
    "epsilon = 0.1\n",
    "p1 = epsilon/3\n",
    "p2 = epsilon-p1\n",
    "p3 = 1-epsilon\n",
    "distrib = [p1,p2,p3/2,p3/2]"
   ]
  },
  {
   "cell_type": "markdown",
   "metadata": {},
   "source": [
    "We define $U$ with the formula A.1 given in the paper."
   ]
  },
  {
   "cell_type": "code",
   "execution_count": 213,
   "metadata": {
    "collapsed": true
   },
   "outputs": [],
   "source": [
    "Ux = (0.5*math.pi*0.5j*(tensor(sigmax(),qeye(2))+tensor(qeye(2),sigmax()))).expm()\n",
    "Uz2 = tensor(qeye(2),rz(2*math.acos(sqrt(p1/epsilon))))\n",
    "Uz1 = tensor(rz(2*math.acos(sqrt(epsilon))),qeye(2))\n",
    "Uxb = (-0.5*math.pi*0.5j*(tensor(sigmax(),qeye(2))+tensor(qeye(2),sigmax()))).expm()"
   ]
  },
  {
   "cell_type": "code",
   "execution_count": 277,
   "metadata": {},
   "outputs": [
    {
     "data": {
      "text/latex": [
       "Quantum object: dims = [[2, 2], [2, 2]], shape = (4, 4), type = oper, isherm = False\\begin{equation*}\\left(\\begin{array}{*{11}c}0.183 & -0.258 & -0.548 & 0.775\\\\0.258 & 0.183 & -0.775 & -0.548\\\\0.548 & -0.775 & 0.183 & -0.258\\\\0.775 & 0.548 & 0.258 & 0.183\\\\\\end{array}\\right)\\end{equation*}"
      ],
      "text/plain": [
       "Quantum object: dims = [[2, 2], [2, 2]], shape = (4, 4), type = oper, isherm = False\n",
       "Qobj data =\n",
       "[[ 0.18257419 -0.25819889 -0.54772256  0.77459667]\n",
       " [ 0.25819889  0.18257419 -0.77459667 -0.54772256]\n",
       " [ 0.54772256 -0.77459667  0.18257419 -0.25819889]\n",
       " [ 0.77459667  0.54772256  0.25819889  0.18257419]]"
      ]
     },
     "execution_count": 277,
     "metadata": {},
     "output_type": "execute_result"
    }
   ],
   "source": [
    "U = Ux*Uz2*Uz1*Uxb\n",
    "U"
   ]
  },
  {
   "cell_type": "code",
   "execution_count": 278,
   "metadata": {},
   "outputs": [
    {
     "data": {
      "text/latex": [
       "Quantum object: dims = [[2, 2], [2, 2]], shape = (4, 4), type = oper, isherm = True\\begin{equation*}\\left(\\begin{array}{*{11}c}1.0 & 0.0 & 0.0 & 0.0\\\\0.0 & 1.0 & 0.0 & 0.0\\\\0.0 & 0.0 & 1.0 & 0.0\\\\0.0 & 0.0 & 0.0 & 1.000\\\\\\end{array}\\right)\\end{equation*}"
      ],
      "text/plain": [
       "Quantum object: dims = [[2, 2], [2, 2]], shape = (4, 4), type = oper, isherm = True\n",
       "Qobj data =\n",
       "[[ 1.  0.  0.  0.]\n",
       " [ 0.  1.  0.  0.]\n",
       " [ 0.  0.  1.  0.]\n",
       " [ 0.  0.  0.  1.]]"
      ]
     },
     "execution_count": 278,
     "metadata": {},
     "output_type": "execute_result"
    }
   ],
   "source": [
    "U.dag()*U"
   ]
  },
  {
   "cell_type": "code",
   "execution_count": 288,
   "metadata": {},
   "outputs": [
    {
     "name": "stdout",
     "output_type": "stream",
     "text": [
      "[0.033333333333333319, 0.066666666666666735, 0.29999999999999993, 0.60000000000000009]\n"
     ]
    }
   ],
   "source": [
    "print(measure(U*tensor(basis(2,0),basis(2,0)))[1])"
   ]
  },
  {
   "cell_type": "markdown",
   "metadata": {},
   "source": [
    "$U$ applied to the state |$0$> indeed gives the distribution"
   ]
  },
  {
   "cell_type": "markdown",
   "metadata": {},
   "source": [
    "Then we need to define the reflection over the flagged actions $Uz1b$ and the Szegedy walk operator $W$"
   ]
  },
  {
   "cell_type": "code",
   "execution_count": 280,
   "metadata": {},
   "outputs": [
    {
     "data": {
      "text/latex": [
       "Quantum object: dims = [[2, 2], [2, 2]], shape = (4, 4), type = oper, isherm = False\\begin{equation*}\\left(\\begin{array}{*{11}c}-1.0j & 0.0 & 0.0 & 0.0\\\\0.0 & -1.0j & 0.0 & 0.0\\\\0.0 & 0.0 & 1.0j & 0.0\\\\0.0 & 0.0 & 0.0 & 1.0j\\\\\\end{array}\\right)\\end{equation*}"
      ],
      "text/plain": [
       "Quantum object: dims = [[2, 2], [2, 2]], shape = (4, 4), type = oper, isherm = False\n",
       "Qobj data =\n",
       "[[ 0.-1.j  0.+0.j  0.+0.j  0.+0.j]\n",
       " [ 0.+0.j  0.-1.j  0.+0.j  0.+0.j]\n",
       " [ 0.+0.j  0.+0.j  0.+1.j  0.+0.j]\n",
       " [ 0.+0.j  0.+0.j  0.+0.j  0.+1.j]]"
      ]
     },
     "execution_count": 280,
     "metadata": {},
     "output_type": "execute_result"
    }
   ],
   "source": [
    "Uz1b = tensor(rz(pi),qeye(2))\n",
    "Uz1b"
   ]
  },
  {
   "cell_type": "code",
   "execution_count": 286,
   "metadata": {
    "collapsed": true
   },
   "outputs": [],
   "source": [
    "null = tensor(basis(2,0),basis(2,0))\n",
    "D0 = 2*null*null.dag()-tensor(qeye(2),qeye(2))"
   ]
  },
  {
   "cell_type": "code",
   "execution_count": 287,
   "metadata": {
    "collapsed": true
   },
   "outputs": [],
   "source": [
    "W = U*D0*U.dag()"
   ]
  },
  {
   "cell_type": "code",
   "execution_count": 730,
   "metadata": {
    "collapsed": true
   },
   "outputs": [],
   "source": [
    "def simulation_rankone(step_e, max_e, nb_agnts, clssc=False):\n",
    "    \"\"\"\n",
    "    simulation_rankone simulates for nb_agnts agents the quantum walk (and also the classical walk if clssc is set)\n",
    "    on the subnetwork associated to the first percept for epsilon <= max_e with step step_e. It stores the number of\n",
    "    calls of U before a flagged action is hit for each simulation in NUss for the quantum agents and in NUss_clssc for\n",
    "    the classical agents. It also stores the number of times the first percept or the second percept are hit in N1s\n",
    "    and N2s respectively.\n",
    "    \"\"\"\n",
    "    epsilons = np.arange(max_e, 0.0-step_e, -step_e)[:-1]\n",
    "    N1s = []\n",
    "    N2s = []\n",
    "    NUss = []\n",
    "    NUss_clssc = []\n",
    "    flagged = 1\n",
    "    old_perc = 0\n",
    "    for epsilon in epsilons:\n",
    "        p1 = epsilon/3\n",
    "        Uz2 = tensor(qeye(2),rz(2*math.acos(sqrt(p1/epsilon))))\n",
    "        Uz1 = tensor(rz(2*math.acos(sqrt(epsilon))),qeye(2))\n",
    "        U = Ux*Uz2*Uz1*Uxb\n",
    "        W = U*D0*U.dag()\n",
    "        me = math.ceil(1/sqrt(epsilon))\n",
    "        N1 = 0\n",
    "        N2 = 0\n",
    "        NUs = []\n",
    "        NUs_clssc = []\n",
    "        for i in range(nb_agnts):\n",
    "            NU = 0\n",
    "            fnd = False\n",
    "            while not fnd:\n",
    "                R1 = tensor(basis(2,0),basis(2,0))\n",
    "                m = random.randint(0,me)\n",
    "                NU+=3*m\n",
    "                R1 = U*R1\n",
    "                for j in range(m):\n",
    "                    R1 = Uz1b*R1\n",
    "                    R1 = W*R1\n",
    "                res = measure(R1)[0]\n",
    "                if res<=flagged:\n",
    "                    fnd = True\n",
    "                    if res==0:\n",
    "                        N1+=1\n",
    "                    else:\n",
    "                        N2+=1\n",
    "            NUs+=[NU]\n",
    "            if clssc:\n",
    "                NU = 0\n",
    "                fnd = False\n",
    "                while not fnd:\n",
    "                    NU+=1\n",
    "                    R1 = tensor(basis(2,0),basis(2,0))\n",
    "                    R1 = U*R1\n",
    "                    res = measure(R1)[0]\n",
    "                    if res<=flagged:\n",
    "                        fnd = True\n",
    "                NUs_clssc+=[NU]\n",
    "        NUss+=[NUs]\n",
    "        NUss_clssc+=[NUs_clssc]\n",
    "        N1s+=[N1]\n",
    "        N2s+=[N2]\n",
    "        perc = 100*(1-epsilon/epsilons[0])\n",
    "        if perc >= old_perc+10:\n",
    "            old_perc = 10*int(perc/10)\n",
    "            print(int(perc),\"%\")\n",
    "    print(\"done\")\n",
    "    if clssc:\n",
    "        return(epsilons, NUss, NUss_clssc, N1s, N2s)\n",
    "    else:\n",
    "        return(epsilons, NUss, N1s, N2s)"
   ]
  },
  {
   "cell_type": "code",
   "execution_count": 731,
   "metadata": {
    "scrolled": true
   },
   "outputs": [
    {
     "name": "stdout",
     "output_type": "stream",
     "text": [
      "10 %\n",
      "20 %\n",
      "30 %\n",
      "40 %\n",
      "50 %\n",
      "60 %\n",
      "70 %\n",
      "80 %\n",
      "90 %\n",
      "done\n"
     ]
    }
   ],
   "source": [
    "epsilons, NUss = simulation_rankone(0.002, 0.10, 1000)[:2]\n",
    "NUss_mean = []\n",
    "for NUs in NUss:\n",
    "    NUss_mean+=[np.mean(NUs)]"
   ]
  },
  {
   "cell_type": "code",
   "execution_count": 740,
   "metadata": {},
   "outputs": [
    {
     "data": {
      "image/png": "[encoded data removed]",
      "text/plain": [
       "<matplotlib.figure.Figure at 0x8cd7990630>"
      ]
     },
     "metadata": {},
     "output_type": "display_data"
    }
   ],
   "source": [
    "plt.plot(epsilons, NUss_mean)\n",
    "\n",
    "plt.xlabel('$\\epsilon$')\n",
    "plt.ylabel('$N_U$')\n",
    "plt.grid(True)\n",
    "plt.show()"
   ]
  },
  {
   "cell_type": "code",
   "execution_count": 524,
   "metadata": {
    "scrolled": true
   },
   "outputs": [
    {
     "name": "stdout",
     "output_type": "stream",
     "text": [
      "10 %\n",
      "20 %\n",
      "30 %\n",
      "40 %\n",
      "50 %\n",
      "60 %\n",
      "70 %\n",
      "80 %\n",
      "90 %\n",
      "done\n"
     ]
    }
   ],
   "source": [
    "epsilonsb, NUssb, NUssb_classc = simulation_rankone(0.0005, 0.05, 1000, True)[:3]\n",
    "NUssb_mean = []\n",
    "for NUs in NUssb:\n",
    "    NUssb_mean+=[np.mean(NUs)]\n",
    "NUssb_classc_mean = []\n",
    "for NUs in NUssb_classc:\n",
    "    NUssb_classc_mean+=[np.mean(NUs)]"
   ]
  },
  {
   "cell_type": "code",
   "execution_count": 741,
   "metadata": {
    "scrolled": true
   },
   "outputs": [
    {
     "data": {
      "image/png": "[encoded data removed]",
      "text/plain": [
       "<matplotlib.figure.Figure at 0x8cd7990e80>"
      ]
     },
     "metadata": {},
     "output_type": "display_data"
    }
   ],
   "source": [
    "plt.plot(epsilonsb, NUssb_mean)\n",
    "plt.plot(epsilonsb, NUssb_classc_mean)\n",
    "\n",
    "plt.xlabel('$\\epsilon$')\n",
    "plt.ylabel('$N_U$')\n",
    "plt.grid(True)\n",
    "plt.show()"
   ]
  },
  {
   "cell_type": "markdown",
   "metadata": {},
   "source": [
    "We clearly get the quadratic seperation between the classical agents and the quantum agents as expected, proving by simulation the quantum-enhancement."
   ]
  },
  {
   "cell_type": "markdown",
   "metadata": {},
   "source": [
    "<h1>Rank-two Reflecting PS</h1>"
   ]
  },
  {
   "cell_type": "markdown",
   "metadata": {},
   "source": [
    "We showed in the previous section how quantum-enhancement of the RPS model allowed to keep the good reactivity of the agent to environment changes. Let us now show another good feature of the PS the quantum-enhancement preserves, the nice interplay between planning and real-time action selection.\n",
    "\n",
    "Indeed, in a more general case than the rank-one RPS, the ergodic MCs of the percept-specific subnetworks of the ECM don't completely mix in one step. This is because the mixing time of the MC (the number of applications of the transition matrix $P$ on an initial distribution to get a *good* approximation of the stationary distribtion) is inversely dependent of the spectral gap $\\delta = 1 - |\\lambda|$ (where $\\lambda$ is the largest eigenvalue of $P$ in absolute value after 1). But this mixing time is precisely the planning in the future that the agent performs as the more the MC is mixed, the better the stationary distribution is approximated and the more accurate is the planning of the agent. The mixing time or the number of application of $P$ (or $W(P)$ for the quantum agent) is determined by the spectral gap $\\delta$ scaling as $\\tilde{O}(1/\\sqrt{\\delta})$ for the quantum RPS agent and as $\\tilde{O}(1/\\delta)$ for the classical RPS agent.\n",
    "\n",
    "To show these dependencies, we consider a transition matrix $P$ with eigenvalues 1 and $\\lambda$, with $\\lambda$ set arbitrarily through a transformation of the rank-on transition matrix we had above:\n",
    "\\begin{split}\\begin{pmatrix}\n",
    "p_1+\\lambda & p_1 & p_1 & p_1\\\\\n",
    "p_2-\\lambda & p_2 & p_2 & p_2\\\\\n",
    "p_3 & p_3 & p_3 & p_3\\\\\n",
    "p_4 & p_4 & p_4 & p_4\n",
    "\\end{pmatrix}\\end{split}\n",
    "where $(p_1, p_2, p_3, p_4)$ refers to the stationary distribution in the previous case.\n",
    "\n",
    "Then the simplifications made in the first part disappear, we need to define different unitaries $U_1$ and $U_{\\{2,3,4\\}}$ for the first and {second, third and fourth} percepts respectively and apply the general Szegedy quantum walk operator and Phase Estimation algorithm. The stationary distribution becomes $(\\frac{p_1}{1-\\lambda}, p_2-p_1\\times \\frac{\\lambda}{1-\\lambda}, p_3, p_4)$.<br/>\n",
    "The constraints we have on $\\lambda$ (supposing it is positive) are:\n",
    "\\begin{split}\\begin{cases}\n",
    "\\frac{p_1}{1-\\lambda} \\leq 1 \\\\\n",
    "p_2-p_1\\times \\frac{\\lambda}{1-\\lambda} \\geq 0 \\\\\n",
    "p_1+\\lambda \\leq 1 \\\\\n",
    "p_2-\\lambda \\geq 0\n",
    "\\end{cases}\\end{split}\n",
    "\n",
    "Which sum up to $\\lambda \\in [0, min(1-p_1, p_2, \\frac{p_2}{p_1+p_2})]$. That can be further simplified if we take $p_1 < p_2$ and $p_1+p_2 < 1$ to $\\lambda \\in [0, p_2]$"
   ]
  },
  {
   "cell_type": "markdown",
   "metadata": {},
   "source": [
    "Let us first check these previous results on the transition matrix for a given $\\lambda = 0.6$:"
   ]
  },
  {
   "cell_type": "code",
   "execution_count": 214,
   "metadata": {
    "collapsed": true
   },
   "outputs": [],
   "source": [
    "epsilon = 0.1\n",
    "p1 = epsilon/3\n",
    "p2 = epsilon-p1\n",
    "p3 = 1-epsilon\n",
    "distrib = [p1,p2,p3/2,p3/2]"
   ]
  },
  {
   "cell_type": "code",
   "execution_count": 215,
   "metadata": {},
   "outputs": [
    {
     "name": "stdout",
     "output_type": "stream",
     "text": [
      "[[ 0.63333333  0.03333333  0.03333333  0.03333333]\n",
      " [-0.53333333  0.06666667  0.06666667  0.06666667]\n",
      " [ 0.45        0.45        0.45        0.45      ]\n",
      " [ 0.45        0.45        0.45        0.45      ]]\n"
     ]
    }
   ],
   "source": [
    "from numpy import linalg as LA\n",
    "Pb = np.array([distrib]*4).transpose()\n",
    "P = np.array([distrib]*4).transpose()\n",
    "lmbd = 0.6\n",
    "Pb[0][0] += lmbd\n",
    "Pb[1][0] -= lmbd\n",
    "print(Pb)"
   ]
  },
  {
   "cell_type": "code",
   "execution_count": 12,
   "metadata": {
    "scrolled": true
   },
   "outputs": [
    {
     "name": "stdout",
     "output_type": "stream",
     "text": [
      "(array([ 0.,  1.,  0., -0.]), array([[-0.83386369, -0.05202269,  0.83386369,  0.03673612],\n",
      "       [ 0.05750784, -0.10404537, -0.05750784,  0.80351628],\n",
      "       [ 0.38817792, -0.70230627, -0.38817792, -0.4201262 ],\n",
      "       [ 0.38817792, -0.70230627, -0.38817792, -0.4201262 ]]))\n"
     ]
    },
    {
     "data": {
      "text/plain": [
       "(array([ 1. ,  0.6,  0. ,  0. ]),\n",
       " array([[-0.12979353, -0.70710678,  0.        , -0.        ],\n",
       "        [-0.02595871,  0.70710678,  0.15624556, -0.81504104],\n",
       "        [-0.70088508,  0.        , -0.77216204,  0.44972331],\n",
       "        [-0.70088508,  0.        ,  0.61591648,  0.36531774]]))"
      ]
     },
     "execution_count": 12,
     "metadata": {},
     "output_type": "execute_result"
    }
   ],
   "source": [
    "np.set_printoptions(suppress=True)\n",
    "print(LA.eig(P))\n",
    "LA.eig(Pb)"
   ]
  },
  {
   "cell_type": "markdown",
   "metadata": {},
   "source": [
    "As we can see the transition matrix for the previous case has eigenvalue 1 only, whereas the modified transition matrix has eigenvalues 1 and $\\lambda$"
   ]
  },
  {
   "cell_type": "markdown",
   "metadata": {},
   "source": [
    "Now we also check that the stationnary distribution for this new transition matrix is the one we gave above."
   ]
  },
  {
   "cell_type": "code",
   "execution_count": 14,
   "metadata": {
    "scrolled": true
   },
   "outputs": [
    {
     "name": "stdout",
     "output_type": "stream",
     "text": [
      "[0.5, 0.49499999999999994, 0.0025000000000000022, 0.0025000000000000022]\n"
     ]
    },
    {
     "data": {
      "text/plain": [
       "array([ 0.5   ,  0.495 ,  0.0025,  0.0025])"
      ]
     },
     "execution_count": 14,
     "metadata": {},
     "output_type": "execute_result"
    }
   ],
   "source": [
    "p2=0.99\n",
    "lmbd = 0.99\n",
    "p1=(1-p2)/2\n",
    "p3=p1\n",
    "distrib = [p1,p2,p3/2,p3/2]\n",
    "Pb = np.array([distrib]*4).transpose()\n",
    "Pb[0][0] += lmbd\n",
    "Pb[1][0] -= lmbd\n",
    "print([p1/(1-lmbd),p2-p1*lmbd/(1-lmbd),p3/2,p3/2])\n",
    "Pb.dot([p1/(1-lmbd),p2-p1*lmbd/(1-lmbd),p3/2,p3/2])"
   ]
  },
  {
   "cell_type": "markdown",
   "metadata": {},
   "source": [
    "Here we try to simulate the complete algorithm, which a lot more complex than in the previous case."
   ]
  },
  {
   "cell_type": "code",
   "execution_count": 260,
   "metadata": {
    "collapsed": true
   },
   "outputs": [],
   "source": [
    "n=1\n",
    "lmbd = 1 - 2**(-2*n)\n",
    "p2 = lmbd\n",
    "p1 = (1-p2)/2\n",
    "p3 = 1-p1-p2\n",
    "distrib = [p1,p2,p3/2,p3/2]\n",
    "\n",
    "R1 = tensor(basis(2,0),basis(2,0))\n",
    "R2 = tensor(basis(2,0),basis(2,0))\n",
    "R = tensor(R1,R2)\n",
    "\n",
    "Ut1 = tensor(ry(2*math.acos(sqrt(p1+p2))),qeye(2))\n",
    "Ut2 = controlled_gate(ry(2*math.acos(sqrt(p1/(p1+p2)))), control_value=0)\n",
    "Ut2b = controlled_gate(ry(2*math.acos(sqrt((p1+lmbd)/(p1+p2)))), control_value=0)\n",
    "Ut3 = controlled_gate(ry(pi/2))\n",
    "U1 = Ut3*Ut2b*Ut1\n",
    "U2 = Ut3*Ut2*Ut1"
   ]
  },
  {
   "cell_type": "code",
   "execution_count": 261,
   "metadata": {},
   "outputs": [
    {
     "name": "stdout",
     "output_type": "stream",
     "text": [
      "[ 0.93541435  0.          0.25        0.25      ]\n"
     ]
    },
    {
     "data": {
      "text/latex": [
       "Quantum object: dims = [[2, 2], [1, 1]], shape = (4, 1), type = ket\\begin{equation*}\\left(\\begin{array}{*{11}c}0.935\\\\0.0\\\\0.250\\\\0.250\\\\\\end{array}\\right)\\end{equation*}"
      ],
      "text/plain": [
       "Quantum object: dims = [[2, 2], [1, 1]], shape = (4, 1), type = ket\n",
       "Qobj data =\n",
       "[[ 0.93541435]\n",
       " [ 0.        ]\n",
       " [ 0.25      ]\n",
       " [ 0.25      ]]"
      ]
     },
     "execution_count": 261,
     "metadata": {},
     "output_type": "execute_result"
    }
   ],
   "source": [
    "print(np.sqrt([p1+lmbd,p2-lmbd,p3/2,p3/2]))\n",
    "U1*R1"
   ]
  },
  {
   "cell_type": "code",
   "execution_count": 262,
   "metadata": {},
   "outputs": [
    {
     "name": "stdout",
     "output_type": "stream",
     "text": [
      "[ 0.35355339  0.8660254   0.25        0.25      ]\n"
     ]
    },
    {
     "data": {
      "text/latex": [
       "Quantum object: dims = [[2, 2], [1, 1]], shape = (4, 1), type = ket\\begin{equation*}\\left(\\begin{array}{*{11}c}0.354\\\\0.866\\\\0.250\\\\0.250\\\\\\end{array}\\right)\\end{equation*}"
      ],
      "text/plain": [
       "Quantum object: dims = [[2, 2], [1, 1]], shape = (4, 1), type = ket\n",
       "Qobj data =\n",
       "[[ 0.35355339]\n",
       " [ 0.8660254 ]\n",
       " [ 0.25      ]\n",
       " [ 0.25      ]]"
      ]
     },
     "execution_count": 262,
     "metadata": {},
     "output_type": "execute_result"
    }
   ],
   "source": [
    "print(np.sqrt(distrib))\n",
    "U2*R2"
   ]
  },
  {
   "cell_type": "code",
   "execution_count": 263,
   "metadata": {
    "collapsed": true
   },
   "outputs": [],
   "source": [
    "U2dc00 = tensor(tensor(fock_dm(2, 0), fock_dm(2, 0)),U2.dag()-tensor(qeye(2),qeye(2)))+tensor(tensor(qeye(2),qeye(2)),tensor(qeye(2),qeye(2)))\n",
    "U1c00 = tensor(tensor(fock_dm(2, 0), fock_dm(2, 0)),U1-tensor(qeye(2),qeye(2)))+tensor(tensor(qeye(2),qeye(2)),tensor(qeye(2),qeye(2)))"
   ]
  },
  {
   "cell_type": "code",
   "execution_count": 264,
   "metadata": {
    "scrolled": false
   },
   "outputs": [
    {
     "data": {
      "text/latex": [
       "Quantum object: dims = [[2, 2, 2, 2], [2, 2, 2, 2]], shape = (16, 16), type = oper, isherm = False\\begin{equation*}\\left(\\begin{array}{*{11}c}0.354 & 0.866 & 0.250 & 0.250 & 0.0 & \\cdots & 0.0 & 0.0 & 0.0 & 0.0 & 0.0\\\\-0.866 & 0.354 & -0.250 & 0.250 & 0.0 & \\cdots & 0.0 & 0.0 & 0.0 & 0.0 & 0.0\\\\-0.134 & -0.327 & 0.661 & 0.661 & 0.0 & \\cdots & 0.0 & 0.0 & 0.0 & 0.0 & 0.0\\\\0.327 & -0.134 & -0.661 & 0.661 & 0.0 & \\cdots & 0.0 & 0.0 & 0.0 & 0.0 & 0.0\\\\0.0 & 0.0 & 0.0 & 0.0 & 1.0 & \\cdots & 0.0 & 0.0 & 0.0 & 0.0 & 0.0\\\\\\vdots & \\vdots & \\vdots & \\vdots & \\vdots & \\ddots & \\vdots & \\vdots & \\vdots & \\vdots & \\vdots\\\\0.0 & 0.0 & 0.0 & 0.0 & 0.0 & \\cdots & 1.0 & 0.0 & 0.0 & 0.0 & 0.0\\\\0.0 & 0.0 & 0.0 & 0.0 & 0.0 & \\cdots & 0.0 & 1.0 & 0.0 & 0.0 & 0.0\\\\0.0 & 0.0 & 0.0 & 0.0 & 0.0 & \\cdots & 0.0 & 0.0 & 1.0 & 0.0 & 0.0\\\\0.0 & 0.0 & 0.0 & 0.0 & 0.0 & \\cdots & 0.0 & 0.0 & 0.0 & 1.0 & 0.0\\\\0.0 & 0.0 & 0.0 & 0.0 & 0.0 & \\cdots & 0.0 & 0.0 & 0.0 & 0.0 & 1.0\\\\\\end{array}\\right)\\end{equation*}"
      ],
      "text/plain": [
       "Quantum object: dims = [[2, 2, 2, 2], [2, 2, 2, 2]], shape = (16, 16), type = oper, isherm = False\n",
       "Qobj data =\n",
       "[[ 0.35355339  0.8660254   0.25        0.25        0.          0.          0.\n",
       "   0.          0.          0.          0.          0.          0.          0.\n",
       "   0.          0.        ]\n",
       " [-0.8660254   0.35355339 -0.25        0.25        0.          0.          0.\n",
       "   0.          0.          0.          0.          0.          0.          0.\n",
       "   0.          0.        ]\n",
       " [-0.13363062 -0.32732684  0.66143783  0.66143783  0.          0.          0.\n",
       "   0.          0.          0.          0.          0.          0.          0.\n",
       "   0.          0.        ]\n",
       " [ 0.32732684 -0.13363062 -0.66143783  0.66143783  0.          0.          0.\n",
       "   0.          0.          0.          0.          0.          0.          0.\n",
       "   0.          0.        ]\n",
       " [ 0.          0.          0.          0.          1.          0.          0.\n",
       "   0.          0.          0.          0.          0.          0.          0.\n",
       "   0.          0.        ]\n",
       " [ 0.          0.          0.          0.          0.          1.          0.\n",
       "   0.          0.          0.          0.          0.          0.          0.\n",
       "   0.          0.        ]\n",
       " [ 0.          0.          0.          0.          0.          0.          1.\n",
       "   0.          0.          0.          0.          0.          0.          0.\n",
       "   0.          0.        ]\n",
       " [ 0.          0.          0.          0.          0.          0.          0.\n",
       "   1.          0.          0.          0.          0.          0.          0.\n",
       "   0.          0.        ]\n",
       " [ 0.          0.          0.          0.          0.          0.          0.\n",
       "   0.          1.          0.          0.          0.          0.          0.\n",
       "   0.          0.        ]\n",
       " [ 0.          0.          0.          0.          0.          0.          0.\n",
       "   0.          0.          1.          0.          0.          0.          0.\n",
       "   0.          0.        ]\n",
       " [ 0.          0.          0.          0.          0.          0.          0.\n",
       "   0.          0.          0.          1.          0.          0.          0.\n",
       "   0.          0.        ]\n",
       " [ 0.          0.          0.          0.          0.          0.          0.\n",
       "   0.          0.          0.          0.          1.          0.          0.\n",
       "   0.          0.        ]\n",
       " [ 0.          0.          0.          0.          0.          0.          0.\n",
       "   0.          0.          0.          0.          0.          1.          0.\n",
       "   0.          0.        ]\n",
       " [ 0.          0.          0.          0.          0.          0.          0.\n",
       "   0.          0.          0.          0.          0.          0.          1.\n",
       "   0.          0.        ]\n",
       " [ 0.          0.          0.          0.          0.          0.          0.\n",
       "   0.          0.          0.          0.          0.          0.          0.\n",
       "   1.          0.        ]\n",
       " [ 0.          0.          0.          0.          0.          0.          0.\n",
       "   0.          0.          0.          0.          0.          0.          0.\n",
       "   0.          1.        ]]"
      ]
     },
     "execution_count": 264,
     "metadata": {},
     "output_type": "execute_result"
    }
   ],
   "source": [
    "U2dc00"
   ]
  },
  {
   "cell_type": "code",
   "execution_count": 265,
   "metadata": {},
   "outputs": [
    {
     "data": {
      "text/latex": [
       "Quantum object: dims = [[2, 2, 2, 2], [2, 2, 2, 2]], shape = (16, 16), type = oper, isherm = False\\begin{equation*}\\left(\\begin{array}{*{11}c}0.935 & 0.0 & -0.354 & 0.0 & 0.0 & \\cdots & 0.0 & 0.0 & 0.0 & 0.0 & 0.0\\\\0.0 & 0.935 & 0.0 & -0.354 & 0.0 & \\cdots & 0.0 & 0.0 & 0.0 & 0.0 & 0.0\\\\0.250 & -0.250 & 0.661 & -0.661 & 0.0 & \\cdots & 0.0 & 0.0 & 0.0 & 0.0 & 0.0\\\\0.250 & 0.250 & 0.661 & 0.661 & 0.0 & \\cdots & 0.0 & 0.0 & 0.0 & 0.0 & 0.0\\\\0.0 & 0.0 & 0.0 & 0.0 & 1.0 & \\cdots & 0.0 & 0.0 & 0.0 & 0.0 & 0.0\\\\\\vdots & \\vdots & \\vdots & \\vdots & \\vdots & \\ddots & \\vdots & \\vdots & \\vdots & \\vdots & \\vdots\\\\0.0 & 0.0 & 0.0 & 0.0 & 0.0 & \\cdots & 1.0 & 0.0 & 0.0 & 0.0 & 0.0\\\\0.0 & 0.0 & 0.0 & 0.0 & 0.0 & \\cdots & 0.0 & 1.0 & 0.0 & 0.0 & 0.0\\\\0.0 & 0.0 & 0.0 & 0.0 & 0.0 & \\cdots & 0.0 & 0.0 & 1.0 & 0.0 & 0.0\\\\0.0 & 0.0 & 0.0 & 0.0 & 0.0 & \\cdots & 0.0 & 0.0 & 0.0 & 1.0 & 0.0\\\\0.0 & 0.0 & 0.0 & 0.0 & 0.0 & \\cdots & 0.0 & 0.0 & 0.0 & 0.0 & 1.0\\\\\\end{array}\\right)\\end{equation*}"
      ],
      "text/plain": [
       "Quantum object: dims = [[2, 2, 2, 2], [2, 2, 2, 2]], shape = (16, 16), type = oper, isherm = False\n",
       "Qobj data =\n",
       "[[ 0.93541435  0.         -0.35355339  0.          0.          0.          0.\n",
       "   0.          0.          0.          0.          0.          0.          0.\n",
       "   0.          0.        ]\n",
       " [ 0.          0.93541435  0.         -0.35355339  0.          0.          0.\n",
       "   0.          0.          0.          0.          0.          0.          0.\n",
       "   0.          0.        ]\n",
       " [ 0.25       -0.25        0.66143783 -0.66143783  0.          0.          0.\n",
       "   0.          0.          0.          0.          0.          0.          0.\n",
       "   0.          0.        ]\n",
       " [ 0.25        0.25        0.66143783  0.66143783  0.          0.          0.\n",
       "   0.          0.          0.          0.          0.          0.          0.\n",
       "   0.          0.        ]\n",
       " [ 0.          0.          0.          0.          1.          0.          0.\n",
       "   0.          0.          0.          0.          0.          0.          0.\n",
       "   0.          0.        ]\n",
       " [ 0.          0.          0.          0.          0.          1.          0.\n",
       "   0.          0.          0.          0.          0.          0.          0.\n",
       "   0.          0.        ]\n",
       " [ 0.          0.          0.          0.          0.          0.          1.\n",
       "   0.          0.          0.          0.          0.          0.          0.\n",
       "   0.          0.        ]\n",
       " [ 0.          0.          0.          0.          0.          0.          0.\n",
       "   1.          0.          0.          0.          0.          0.          0.\n",
       "   0.          0.        ]\n",
       " [ 0.          0.          0.          0.          0.          0.          0.\n",
       "   0.          1.          0.          0.          0.          0.          0.\n",
       "   0.          0.        ]\n",
       " [ 0.          0.          0.          0.          0.          0.          0.\n",
       "   0.          0.          1.          0.          0.          0.          0.\n",
       "   0.          0.        ]\n",
       " [ 0.          0.          0.          0.          0.          0.          0.\n",
       "   0.          0.          0.          1.          0.          0.          0.\n",
       "   0.          0.        ]\n",
       " [ 0.          0.          0.          0.          0.          0.          0.\n",
       "   0.          0.          0.          0.          1.          0.          0.\n",
       "   0.          0.        ]\n",
       " [ 0.          0.          0.          0.          0.          0.          0.\n",
       "   0.          0.          0.          0.          0.          1.          0.\n",
       "   0.          0.        ]\n",
       " [ 0.          0.          0.          0.          0.          0.          0.\n",
       "   0.          0.          0.          0.          0.          0.          1.\n",
       "   0.          0.        ]\n",
       " [ 0.          0.          0.          0.          0.          0.          0.\n",
       "   0.          0.          0.          0.          0.          0.          0.\n",
       "   1.          0.        ]\n",
       " [ 0.          0.          0.          0.          0.          0.          0.\n",
       "   0.          0.          0.          0.          0.          0.          0.\n",
       "   0.          1.        ]]"
      ]
     },
     "execution_count": 265,
     "metadata": {},
     "output_type": "execute_result"
    }
   ],
   "source": [
    "U1c00"
   ]
  },
  {
   "cell_type": "code",
   "execution_count": 266,
   "metadata": {
    "collapsed": true
   },
   "outputs": [],
   "source": [
    "Up = U1c00*U2dc00*tensor(tensor(qeye(2),qeye(2)),U2)\n",
    "Vp = swap(N=4, targets=[0, 2])*swap(N=4, targets=[1, 3])*Up*swap(N=4, targets=[0, 2])*swap(N=4, targets=[1, 3])\n",
    "null = tensor(basis(2,0),basis(2,0))\n",
    "D0 = 2*null*null.dag()-tensor(qeye(2),qeye(2))\n",
    "refA = Up*tensor(tensor(qeye(2),qeye(2)),D0)*Up.dag()\n",
    "refB = Vp*tensor(D0,tensor(qeye(2),qeye(2)))*Vp.dag()\n",
    "W = refB*refA"
   ]
  },
  {
   "cell_type": "code",
   "execution_count": 267,
   "metadata": {
    "collapsed": true
   },
   "outputs": [],
   "source": [
    "k=n\n",
    "\n",
    "Aux = basis(2,0)\n",
    "for i in range(k):\n",
    "    Aux = tensor(basis(2,0),Aux)\n",
    "nullaux = Aux\n",
    "\n",
    "eye = qeye(2)\n",
    "eyes = [eye]\n",
    "H = hadamard_transform()\n",
    "Hs = [H]\n",
    "for i in range(n+6):\n",
    "    eye = tensor(qeye(2),eye)\n",
    "    eyes += [eye]\n",
    "    H = tensor(hadamard_transform(),H)\n",
    "    Hs += [H]\n",
    "\n",
    "temp = W\n",
    "Wcs = [tensor(eyes[k-1],tensor(fock_dm(2,1),temp-eyes[3])+eyes[4])]\n",
    "for i in range(1,k):\n",
    "    temp = temp**2\n",
    "    Wcs += [tensor(eyes[k-i-1],tensor(fock_dm(2,1),tensor(eyes[i-1],temp)-eyes[i+3])+eyes[i+4])]\n",
    "Wcs+=[tensor(fock_dm(2,1),tensor(eyes[k-1],temp)-eyes[k+3])+eyes[k+4]]\n",
    "\n",
    "Mem = tensor(Aux, R)\n",
    "\n",
    "PD = tensor(Hs[k],eyes[3])\n",
    "for Wc in Wcs:\n",
    "    PD = Wc*PD\n",
    "PD = tensor(Hs[k],eyes[3])*PD\n",
    "D0aux = 2*nullaux*nullaux.dag()-eyes[k]\n",
    "ARO = PD.dag()*tensor(D0aux,eyes[3])*PD\n"
   ]
  },
  {
   "cell_type": "code",
   "execution_count": 268,
   "metadata": {},
   "outputs": [
    {
     "name": "stdout",
     "output_type": "stream",
     "text": [
      "[0.5, 0.375, 0.0625, 0.0625]\n"
     ]
    }
   ],
   "source": [
    "print([p1/(1-lmbd),p2-p1*lmbd/(1-lmbd),p3/2,p3/2])"
   ]
  },
  {
   "cell_type": "code",
   "execution_count": 269,
   "metadata": {},
   "outputs": [
    {
     "name": "stdout",
     "output_type": "stream",
     "text": [
      "[ 0.70710678  0.61237244  0.25        0.25      ]\n"
     ]
    }
   ],
   "source": [
    "print(np.sqrt([p1/(1-lmbd),p2-p1*lmbd/(1-lmbd),p3/2,p3/2]))"
   ]
  },
  {
   "cell_type": "code",
   "execution_count": 270,
   "metadata": {},
   "outputs": [
    {
     "data": {
      "text/latex": [
       "Quantum object: dims = [[2, 2], [1, 1]], shape = (4, 1), type = ket\\begin{equation*}\\left(\\begin{array}{*{11}c}0.500\\\\0.750\\\\0.306\\\\0.306\\\\\\end{array}\\right)\\end{equation*}"
      ],
      "text/plain": [
       "Quantum object: dims = [[2, 2], [1, 1]], shape = (4, 1), type = ket\n",
       "Qobj data =\n",
       "[[ 0.5       ]\n",
       " [ 0.75      ]\n",
       " [ 0.30618622]\n",
       " [ 0.30618622]]"
      ]
     },
     "execution_count": 270,
     "metadata": {},
     "output_type": "execute_result"
    }
   ],
   "source": [
    "test"
   ]
  },
  {
   "cell_type": "code",
   "execution_count": 275,
   "metadata": {},
   "outputs": [
    {
     "data": {
      "text/latex": [
       "Quantum object: dims = [[2, 2, 2, 2], [1, 1, 1, 1]], shape = (16, 1), type = ket\\begin{equation*}\\left(\\begin{array}{*{11}c}0.661\\\\0.0\\\\0.177\\\\0.177\\\\0.217\\\\\\vdots\\\\0.063\\\\0.088\\\\0.217\\\\0.063\\\\0.063\\\\\\end{array}\\right)\\end{equation*}"
      ],
      "text/plain": [
       "Quantum object: dims = [[2, 2, 2, 2], [1, 1, 1, 1]], shape = (16, 1), type = ket\n",
       "Qobj data =\n",
       "[[ 0.66143783]\n",
       " [ 0.        ]\n",
       " [ 0.1767767 ]\n",
       " [ 0.1767767 ]\n",
       " [ 0.21650635]\n",
       " [ 0.53033009]\n",
       " [ 0.15309311]\n",
       " [ 0.15309311]\n",
       " [ 0.08838835]\n",
       " [ 0.21650635]\n",
       " [ 0.0625    ]\n",
       " [ 0.0625    ]\n",
       " [ 0.08838835]\n",
       " [ 0.21650635]\n",
       " [ 0.0625    ]\n",
       " [ 0.0625    ]]"
      ]
     },
     "execution_count": 275,
     "metadata": {},
     "output_type": "execute_result"
    }
   ],
   "source": [
    "Up*tensor(test,R2)"
   ]
  },
  {
   "cell_type": "code",
   "execution_count": 285,
   "metadata": {},
   "outputs": [
    {
     "data": {
      "text/plain": [
       "0.70710678118654757"
      ]
     },
     "execution_count": 285,
     "metadata": {},
     "output_type": "execute_result"
    }
   ],
   "source": [
    "delta = 1 - lmbd\n",
    "sqrt(2*delta)"
   ]
  },
  {
   "cell_type": "code",
   "execution_count": 286,
   "metadata": {},
   "outputs": [
    {
     "data": {
      "text/plain": [
       "0.7227342478134157"
      ]
     },
     "execution_count": 286,
     "metadata": {},
     "output_type": "execute_result"
    }
   ],
   "source": [
    "math.acos(lmbd)"
   ]
  },
  {
   "cell_type": "code",
   "execution_count": 282,
   "metadata": {},
   "outputs": [
    {
     "data": {
      "text/plain": [
       "0.25"
      ]
     },
     "execution_count": 282,
     "metadata": {},
     "output_type": "execute_result"
    }
   ],
   "source": [
    "sqrt(delta)/2"
   ]
  },
  {
   "cell_type": "code",
   "execution_count": 289,
   "metadata": {},
   "outputs": [
    {
     "data": {
      "text/plain": [
       "array([ 0.15542251,  0.23383926,  0.04591932,  0.04591932,  0.21252213,\n",
       "        0.08514513,  0.03208797,  0.03208797,  0.05469255,  0.02167367,\n",
       "        0.00108099,  0.00108099,  0.05469255,  0.02167367,  0.00108099,\n",
       "        0.00108099])"
      ]
     },
     "execution_count": 289,
     "metadata": {},
     "output_type": "execute_result"
    }
   ],
   "source": [
    "test = sqrt(p1/(1-lmbd))*tensor(basis(2,0),basis(2,0))+sqrt(p2-p1*lmbd/(1-lmbd))*tensor(basis(2,0),basis(2,1))+sqrt(p3/2)*tensor(basis(2,1),basis(2,0))+sqrt(p3/2)*tensor(basis(2,1),basis(2,1))\n",
    "out = np.array(measure(ARO*tensor(Aux,Up*tensor(test,R2)))[1])\n",
    "out = out.reshape(int(len(out)/16),16)\n",
    "out = np.sum(out, axis = 0)#.reshape(4,4)\n",
    "#np.sum(out,axis = 0)\n",
    "out"
   ]
  },
  {
   "cell_type": "code",
   "execution_count": 191,
   "metadata": {},
   "outputs": [
    {
     "data": {
      "text/latex": [
       "Quantum object: dims = [[2, 2, 2, 2, 2, 2, 2, 2], [1, 1, 1, 1, 1, 1, 1, 1]], shape = (256, 1), type = ket\\begin{equation*}\\left(\\begin{array}{*{11}c}0.200\\\\0.0\\\\0.015\\\\0.015\\\\-0.004\\\\\\vdots\\\\1.800\\times10^{-06}\\\\1.470\\times10^{-06}\\\\2.334\\times10^{-05}\\\\1.800\\times10^{-06}\\\\1.800\\times10^{-06}\\\\\\end{array}\\right)\\end{equation*}"
      ],
      "text/plain": [
       "Quantum object: dims = [[2, 2, 2, 2, 2, 2, 2, 2], [1, 1, 1, 1, 1, 1, 1, 1]], shape = (256, 1), type = ket\n",
       "Qobj data =\n",
       "[[ 0.19951773]\n",
       " [ 0.        ]\n",
       " [ 0.01536268]\n",
       " [ 0.01536268]\n",
       " [-0.00402404]\n",
       " [-0.06387965]\n",
       " [-0.00492842]\n",
       " [-0.00492842]\n",
       " [-0.00055227]\n",
       " [-0.008767  ]\n",
       " [-0.00067639]\n",
       " [-0.00067639]\n",
       " [-0.00055227]\n",
       " [-0.008767  ]\n",
       " [-0.00067639]\n",
       " [-0.00067639]\n",
       " [-0.00933697]\n",
       " [-0.00400251]\n",
       " [ 0.0606304 ]\n",
       " [ 0.0606304 ]\n",
       " [ 0.00402404]\n",
       " [ 0.00034177]\n",
       " [-0.00385776]\n",
       " [-0.00385776]\n",
       " [-0.06135055]\n",
       " [ 0.00386495]\n",
       " [-0.00000148]\n",
       " [-0.00000148]\n",
       " [-0.06135055]\n",
       " [ 0.00386495]\n",
       " [-0.00000148]\n",
       " [-0.00000148]\n",
       " [-0.01912958]\n",
       " [-0.00791135]\n",
       " [ 0.12421959]\n",
       " [ 0.12421959]\n",
       " [ 0.00795657]\n",
       " [ 0.0007178 ]\n",
       " [-0.00790013]\n",
       " [-0.00790013]\n",
       " [-0.12569488]\n",
       " [ 0.00791847]\n",
       " [-0.00000286]\n",
       " [-0.00000286]\n",
       " [-0.12569488]\n",
       " [ 0.00791847]\n",
       " [-0.00000286]\n",
       " [-0.00000286]\n",
       " [ 0.03848564]\n",
       " [ 0.        ]\n",
       " [ 0.00296336]\n",
       " [ 0.00296336]\n",
       " [-0.00009151]\n",
       " [-0.00145268]\n",
       " [-0.00011208]\n",
       " [-0.00011208]\n",
       " [ 0.00000465]\n",
       " [ 0.00007386]\n",
       " [ 0.0000057 ]\n",
       " [ 0.0000057 ]\n",
       " [ 0.00000465]\n",
       " [ 0.00007386]\n",
       " [ 0.0000057 ]\n",
       " [ 0.0000057 ]\n",
       " [-0.04251103]\n",
       " [-0.0148209 ]\n",
       " [ 0.27604904]\n",
       " [ 0.27604904]\n",
       " [ 0.01493204]\n",
       " [ 0.00176429]\n",
       " [-0.0175299 ]\n",
       " [-0.0175299 ]\n",
       " [-0.27932671]\n",
       " [ 0.01759675]\n",
       " [-0.00000534]\n",
       " [-0.00000534]\n",
       " [-0.27932671]\n",
       " [ 0.01759675]\n",
       " [-0.00000534]\n",
       " [-0.00000534]\n",
       " [ 0.08552547]\n",
       " [ 0.        ]\n",
       " [ 0.00658538]\n",
       " [ 0.00658538]\n",
       " [-0.00022471]\n",
       " [-0.00356719]\n",
       " [-0.00027521]\n",
       " [-0.00027521]\n",
       " [ 0.00000869]\n",
       " [ 0.00013798]\n",
       " [ 0.00001065]\n",
       " [ 0.00001065]\n",
       " [ 0.00000869]\n",
       " [ 0.00013798]\n",
       " [ 0.00001065]\n",
       " [ 0.00001065]\n",
       " [ 0.17522591]\n",
       " [ 0.        ]\n",
       " [ 0.01349223]\n",
       " [ 0.01349223]\n",
       " [-0.0004697 ]\n",
       " [-0.00745627]\n",
       " [-0.00057526]\n",
       " [-0.00057526]\n",
       " [ 0.00001709]\n",
       " [ 0.00027129]\n",
       " [ 0.00002093]\n",
       " [ 0.00002093]\n",
       " [ 0.00001709]\n",
       " [ 0.00027129]\n",
       " [ 0.00002093]\n",
       " [ 0.00002093]\n",
       " [ 0.00207517]\n",
       " [-0.00047977]\n",
       " [-0.01347528]\n",
       " [-0.01347528]\n",
       " [ 0.0004697 ]\n",
       " [-0.00015986]\n",
       " [ 0.00084425]\n",
       " [ 0.00084425]\n",
       " [ 0.01363492]\n",
       " [-0.00085889]\n",
       " [-0.00000018]\n",
       " [-0.00000018]\n",
       " [ 0.01363492]\n",
       " [-0.00085889]\n",
       " [-0.00000018]\n",
       " [-0.00000018]\n",
       " [-0.04251103]\n",
       " [-0.0148209 ]\n",
       " [ 0.27604904]\n",
       " [ 0.27604904]\n",
       " [ 0.01493204]\n",
       " [ 0.00176429]\n",
       " [-0.0175299 ]\n",
       " [-0.0175299 ]\n",
       " [-0.27932671]\n",
       " [ 0.01759675]\n",
       " [-0.00000534]\n",
       " [-0.00000534]\n",
       " [-0.27932671]\n",
       " [ 0.01759675]\n",
       " [-0.00000534]\n",
       " [-0.00000534]\n",
       " [ 0.08552547]\n",
       " [ 0.        ]\n",
       " [ 0.00658538]\n",
       " [ 0.00658538]\n",
       " [-0.00022471]\n",
       " [-0.00356719]\n",
       " [-0.00027521]\n",
       " [-0.00027521]\n",
       " [ 0.00000869]\n",
       " [ 0.00013798]\n",
       " [ 0.00001065]\n",
       " [ 0.00001065]\n",
       " [ 0.00000869]\n",
       " [ 0.00013798]\n",
       " [ 0.00001065]\n",
       " [ 0.00001065]\n",
       " [ 0.17522591]\n",
       " [ 0.        ]\n",
       " [ 0.01349223]\n",
       " [ 0.01349223]\n",
       " [-0.0004697 ]\n",
       " [-0.00745627]\n",
       " [-0.00057526]\n",
       " [-0.00057526]\n",
       " [ 0.00001709]\n",
       " [ 0.00027129]\n",
       " [ 0.00002093]\n",
       " [ 0.00002093]\n",
       " [ 0.00001709]\n",
       " [ 0.00027129]\n",
       " [ 0.00002093]\n",
       " [ 0.00002093]\n",
       " [ 0.00207517]\n",
       " [-0.00047977]\n",
       " [-0.01347528]\n",
       " [-0.01347528]\n",
       " [ 0.0004697 ]\n",
       " [-0.00015986]\n",
       " [ 0.00084425]\n",
       " [ 0.00084425]\n",
       " [ 0.01363492]\n",
       " [-0.00085889]\n",
       " [-0.00000018]\n",
       " [-0.00000018]\n",
       " [ 0.01363492]\n",
       " [-0.00085889]\n",
       " [-0.00000018]\n",
       " [-0.00000018]\n",
       " [ 0.38941174]\n",
       " [ 0.        ]\n",
       " [ 0.02998433]\n",
       " [ 0.02998433]\n",
       " [-0.00113274]\n",
       " [-0.01798162]\n",
       " [-0.00138731]\n",
       " [-0.00138731]\n",
       " [ 0.00003112]\n",
       " [ 0.00049403]\n",
       " [ 0.00003812]\n",
       " [ 0.00003812]\n",
       " [ 0.00003112]\n",
       " [ 0.00049403]\n",
       " [ 0.00003812]\n",
       " [ 0.00003812]\n",
       " [ 0.00461279]\n",
       " [-0.00115546]\n",
       " [-0.02995356]\n",
       " [-0.02995356]\n",
       " [ 0.00113274]\n",
       " [-0.0003608 ]\n",
       " [ 0.0018758 ]\n",
       " [ 0.0018758 ]\n",
       " [ 0.03030839]\n",
       " [-0.00190918]\n",
       " [-0.00000043]\n",
       " [-0.00000043]\n",
       " [ 0.03030839]\n",
       " [-0.00190918]\n",
       " [-0.00000043]\n",
       " [-0.00000043]\n",
       " [ 0.00945129]\n",
       " [-0.00240625]\n",
       " [-0.06137274]\n",
       " [-0.06137274]\n",
       " [ 0.00235953]\n",
       " [-0.00074163]\n",
       " [ 0.00384301]\n",
       " [ 0.00384301]\n",
       " [ 0.06209975]\n",
       " [-0.00391178]\n",
       " [-0.00000089]\n",
       " [-0.00000089]\n",
       " [ 0.06209975]\n",
       " [-0.00391178]\n",
       " [-0.00000089]\n",
       " [-0.00000089]\n",
       " [-0.01901476]\n",
       " [ 0.        ]\n",
       " [-0.00146412]\n",
       " [-0.00146412]\n",
       " [ 0.00009406]\n",
       " [ 0.0014932 ]\n",
       " [ 0.0001152 ]\n",
       " [ 0.0001152 ]\n",
       " [ 0.00000147]\n",
       " [ 0.00002334]\n",
       " [ 0.0000018 ]\n",
       " [ 0.0000018 ]\n",
       " [ 0.00000147]\n",
       " [ 0.00002334]\n",
       " [ 0.0000018 ]\n",
       " [ 0.0000018 ]]"
      ]
     },
     "execution_count": 191,
     "metadata": {},
     "output_type": "execute_result"
    }
   ],
   "source": [
    "null = tensor(basis(2,0),basis(2,0))\n",
    "refAct = eyes[k+4]-tensor(eyes[k],tensor(2*null*null.dag(),eyes[1]))\n",
    "Memb = tensor(Aux, Up*R)\n",
    "ARO*refAct*Memb"
   ]
  },
  {
   "cell_type": "code",
   "execution_count": 90,
   "metadata": {},
   "outputs": [
    {
     "data": {
      "text/plain": [
       "array([ 0.57815862,  0.10606541,  0.15788799,  0.15788799])"
      ]
     },
     "execution_count": 90,
     "metadata": {},
     "output_type": "execute_result"
    }
   ],
   "source": [
    "mes = np.array(measure(ARO*refAct*Memb)[1])\n",
    "mes = mes.reshape(int(len(mes)/16),16)\n",
    "mes = np.sum(mes, axis = 0).reshape(4,4)\n",
    "np.sum(mes, axis = 0)"
   ]
  },
  {
   "cell_type": "code",
   "execution_count": null,
   "metadata": {
    "collapsed": true
   },
   "outputs": [],
   "source": []
  }
 ],
 "metadata": {
  "kernelspec": {
   "display_name": "Python 3",
   "language": "python",
   "name": "python3"
  },
  "language_info": {
   "codemirror_mode": {
    "name": "ipython",
    "version": 3
   },
   "file_extension": ".py",
   "mimetype": "text/x-python",
   "name": "python",
   "nbconvert_exporter": "python",
   "pygments_lexer": "ipython3",
   "version": "3.5.4"
  }
 },
 "nbformat": 4,
 "nbformat_minor": 2
}
