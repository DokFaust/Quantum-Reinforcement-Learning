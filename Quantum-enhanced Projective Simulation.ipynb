{
 "cells": [
  {
   "cell_type": "markdown",
   "metadata": {},
   "source": [
    "# Investigating the quadratic speed-up of Quantum-enhanced Reflecting Projective Simulation\n",
    "\n",
    "Sofiène Jerbi (sofiene.jerbi@telecom-paristech.fr)"
   ]
  },
  {
   "cell_type": "code",
   "execution_count": 1,
   "metadata": {
    "collapsed": true
   },
   "outputs": [],
   "source": [
    "from qutip import *\n",
    "import numpy as np\n",
    "import matplotlib.pyplot as plt\n",
    "import math\n",
    "import random\n",
    "from numpy import pi, sqrt\n",
    "\n",
    "np.set_printoptions(suppress=True)"
   ]
  },
  {
   "cell_type": "markdown",
   "metadata": {},
   "source": [
    "A useful function we define to be used all along the notebook."
   ]
  },
  {
   "cell_type": "code",
   "execution_count": 2,
   "metadata": {
    "collapsed": true
   },
   "outputs": [],
   "source": [
    "def measure(state, size=1):\n",
    "    \"\"\"For a given state returns a measurement (or \\'size\\' measurements, if specified) of the state in\n",
    "    the computational basis along with its wavefunction (probabilities of each outcome)\"\"\"\n",
    "    n = state.shape[0]\n",
    "    probs = np.abs(state.dag().full())**2\n",
    "    probs = probs.reshape(n)\n",
    "    if size>1:\n",
    "        draw = np.random.choice(n,p=probs,size=size)\n",
    "    else:\n",
    "        draw = np.random.choice(n,p=probs)\n",
    "    return(draw,list(probs))"
   ]
  },
  {
   "cell_type": "code",
   "execution_count": 4,
   "metadata": {},
   "outputs": [
    {
     "name": "stdout",
     "output_type": "stream",
     "text": [
      "(1, [0.49999999999999989, 0.49999999999999989])\n"
     ]
    }
   ],
   "source": [
    "bell = (basis(2,0)+basis(2,1))/math.sqrt(2)\n",
    "print(measure(bell))"
   ]
  },
  {
   "cell_type": "markdown",
   "metadata": {},
   "source": [
    "<h1>Rank-One Reflecting PS</h1>"
   ]
  },
  {
   "cell_type": "markdown",
   "metadata": {},
   "source": [
    "The aim of the following part if to show how quantum-enhancement allows to keep one the good features of PS, its reactivity to environment changes, even when adding an additional structure (Reflecting PS and flags) that increases learning efficiency but induces longer deliberation times, especially in the case of changes in the environment.\n",
    "Let us set the context and explain this further:\n",
    "\n",
    "We consider the case of a \"two-layered\" RPS agent, where each transition matrix $P$ associated to the MC of a percept-specific sub-network of the ECM have rank one. We focus on the sub-network associated to one percept but we would get analog results for the other percepts. As specified in the appendix of https://arxiv.org/pdf/1407.2830.pdf this leads to many simplifications:\n",
    "- The columns of $P$ are all identical, equal to the stationnary distribution, so all unitaries $U_i$ are the same equal to $U$ (given by formula A.1)\n",
    "- $P$ has only one eigenvalue (+1) and one eigenvector (the stationnary distribution) which leads to a spectral gap $\\delta = 1$\n",
    "- The Markov chain mixes in one step\n",
    "- The Szegedy Walk operator becomes $W(P) = UD_0U^\\dagger$ and is hermitian, then exact reflection over the stationary distribution can be achieved by applying $W(P)$ once on only one register\n",
    "\n",
    "We deal with the simple \"Invasion game\" with a set of three percepts and three actions. We define the stationnary action probabilities $\\pi = (\\pi_1,\\pi_2,\\pi_3)$ and add the *flags* (or *emoticons*) structure to the network, increasing the learning efficiency of the agent but inducing a longer deliberation time to output an action because of the multiple reflections the RPS agent has to go through to output a *flagged* action. This number of reflections is determined by $epsilon = \\sum_{i\\in F} \\pi_i$ the relative probability of flagged actions within the stationnary distribution, scaling as $\\tilde{O}(1/\\sqrt{\\epsilon})$ for the quantum RPS agent and as $\\tilde{O}(1/\\epsilon)$ for the classical RPS agent.\n",
    "\n",
    "To exhibit the better reactivity of quantum RS to environment changes, which happens to be the case when epsilon is the smallest (so when the difference in the dependencies on $\\epsilon$ is the largest), we deal with the change in strategy of the adversary (i.e. the environment) by permuting the meaning of percepts. Suppose the adversary pursues a consistent strategy (i.e. gives the same hints, or percepts, to the agent before each of its moves) for a long period of time. The agent would have learned well, which means that for a given percept he would associated with high probability an action (i.e. $\\pi_3 >> \\pi_1 +\\pi_2$ for example) and only the action clip associated to $\\pi_3$ would be flagged. Then the adversary changes his strategy, which means that now the flagged actions are reset, and become (after one unsuccessful trial on the action associated to $\\pi_3$) the actions clips associated to $\\pi_1$ and $\\pi_2$, with cumulated probability $\\epsilon = \\pi_1 +\\pi_2 << 1$.\n",
    "\n",
    "Let's now dig into the simulation!"
   ]
  },
  {
   "cell_type": "code",
   "execution_count": 408,
   "metadata": {
    "collapsed": true
   },
   "outputs": [],
   "source": [
    "epsilon = 0.1\n",
    "p1 = epsilon/3\n",
    "p2 = epsilon-p1\n",
    "p3 = 1-epsilon\n",
    "distrib = [p1,p2,p3/2,p3/2]"
   ]
  },
  {
   "cell_type": "markdown",
   "metadata": {},
   "source": [
    "We define $U$ with the formula A.1 given in the paper."
   ]
  },
  {
   "cell_type": "code",
   "execution_count": 213,
   "metadata": {
    "collapsed": true
   },
   "outputs": [],
   "source": [
    "Ux = (0.5*math.pi*0.5j*(tensor(sigmax(),qeye(2))+tensor(qeye(2),sigmax()))).expm()\n",
    "Uz2 = tensor(qeye(2),rz(2*math.acos(sqrt(p1/epsilon))))\n",
    "Uz1 = tensor(rz(2*math.acos(sqrt(epsilon))),qeye(2))\n",
    "Uxb = (-0.5*math.pi*0.5j*(tensor(sigmax(),qeye(2))+tensor(qeye(2),sigmax()))).expm()"
   ]
  },
  {
   "cell_type": "code",
   "execution_count": 277,
   "metadata": {},
   "outputs": [
    {
     "data": {
      "text/latex": [
       "Quantum object: dims = [[2, 2], [2, 2]], shape = (4, 4), type = oper, isherm = False\\begin{equation*}\\left(\\begin{array}{*{11}c}0.183 & -0.258 & -0.548 & 0.775\\\\0.258 & 0.183 & -0.775 & -0.548\\\\0.548 & -0.775 & 0.183 & -0.258\\\\0.775 & 0.548 & 0.258 & 0.183\\\\\\end{array}\\right)\\end{equation*}"
      ],
      "text/plain": [
       "Quantum object: dims = [[2, 2], [2, 2]], shape = (4, 4), type = oper, isherm = False\n",
       "Qobj data =\n",
       "[[ 0.18257419 -0.25819889 -0.54772256  0.77459667]\n",
       " [ 0.25819889  0.18257419 -0.77459667 -0.54772256]\n",
       " [ 0.54772256 -0.77459667  0.18257419 -0.25819889]\n",
       " [ 0.77459667  0.54772256  0.25819889  0.18257419]]"
      ]
     },
     "execution_count": 277,
     "metadata": {},
     "output_type": "execute_result"
    }
   ],
   "source": [
    "U = Ux*Uz2*Uz1*Uxb\n",
    "U"
   ]
  },
  {
   "cell_type": "code",
   "execution_count": 278,
   "metadata": {},
   "outputs": [
    {
     "data": {
      "text/latex": [
       "Quantum object: dims = [[2, 2], [2, 2]], shape = (4, 4), type = oper, isherm = True\\begin{equation*}\\left(\\begin{array}{*{11}c}1.0 & 0.0 & 0.0 & 0.0\\\\0.0 & 1.0 & 0.0 & 0.0\\\\0.0 & 0.0 & 1.0 & 0.0\\\\0.0 & 0.0 & 0.0 & 1.000\\\\\\end{array}\\right)\\end{equation*}"
      ],
      "text/plain": [
       "Quantum object: dims = [[2, 2], [2, 2]], shape = (4, 4), type = oper, isherm = True\n",
       "Qobj data =\n",
       "[[ 1.  0.  0.  0.]\n",
       " [ 0.  1.  0.  0.]\n",
       " [ 0.  0.  1.  0.]\n",
       " [ 0.  0.  0.  1.]]"
      ]
     },
     "execution_count": 278,
     "metadata": {},
     "output_type": "execute_result"
    }
   ],
   "source": [
    "U.dag()*U"
   ]
  },
  {
   "cell_type": "code",
   "execution_count": 288,
   "metadata": {},
   "outputs": [
    {
     "name": "stdout",
     "output_type": "stream",
     "text": [
      "[0.033333333333333319, 0.066666666666666735, 0.29999999999999993, 0.60000000000000009]\n"
     ]
    }
   ],
   "source": [
    "print(measure(U*tensor(basis(2,0),basis(2,0)))[1])"
   ]
  },
  {
   "cell_type": "markdown",
   "metadata": {},
   "source": [
    "$U$ applied to the state |$0$> indeed gives the distribution"
   ]
  },
  {
   "cell_type": "markdown",
   "metadata": {},
   "source": [
    "Then we need to define the reflection over the flagged actions $Uz1b$ and the Szegedy walk operator $W$"
   ]
  },
  {
   "cell_type": "code",
   "execution_count": 280,
   "metadata": {},
   "outputs": [
    {
     "data": {
      "text/latex": [
       "Quantum object: dims = [[2, 2], [2, 2]], shape = (4, 4), type = oper, isherm = False\\begin{equation*}\\left(\\begin{array}{*{11}c}-1.0j & 0.0 & 0.0 & 0.0\\\\0.0 & -1.0j & 0.0 & 0.0\\\\0.0 & 0.0 & 1.0j & 0.0\\\\0.0 & 0.0 & 0.0 & 1.0j\\\\\\end{array}\\right)\\end{equation*}"
      ],
      "text/plain": [
       "Quantum object: dims = [[2, 2], [2, 2]], shape = (4, 4), type = oper, isherm = False\n",
       "Qobj data =\n",
       "[[ 0.-1.j  0.+0.j  0.+0.j  0.+0.j]\n",
       " [ 0.+0.j  0.-1.j  0.+0.j  0.+0.j]\n",
       " [ 0.+0.j  0.+0.j  0.+1.j  0.+0.j]\n",
       " [ 0.+0.j  0.+0.j  0.+0.j  0.+1.j]]"
      ]
     },
     "execution_count": 280,
     "metadata": {},
     "output_type": "execute_result"
    }
   ],
   "source": [
    "Uz1b = tensor(rz(pi),qeye(2))\n",
    "Uz1b"
   ]
  },
  {
   "cell_type": "code",
   "execution_count": 286,
   "metadata": {
    "collapsed": true
   },
   "outputs": [],
   "source": [
    "null = tensor(basis(2,0),basis(2,0))\n",
    "D0 = 2*null*null.dag()-tensor(qeye(2),qeye(2))"
   ]
  },
  {
   "cell_type": "code",
   "execution_count": 287,
   "metadata": {
    "collapsed": true
   },
   "outputs": [],
   "source": [
    "W = U*D0*U.dag()"
   ]
  },
  {
   "cell_type": "code",
   "execution_count": 730,
   "metadata": {
    "collapsed": true
   },
   "outputs": [],
   "source": [
    "def simulation_rankone(step_e, max_e, nb_agnts, clssc=False):\n",
    "    \"\"\"\n",
    "    simulation_rankone simulates for nb_agnts agents the quantum walk (and also the classical walk if clssc is set)\n",
    "    on the subnetwork associated to the first percept for epsilon <= max_e with step step_e. It stores the number of\n",
    "    calls of U before a flagged action is hit for each simulation in NUss for the quantum agents and in NUss_clssc for\n",
    "    the classical agents. It also stores the number of times the first percept or the second percept are hit in N1s\n",
    "    and N2s respectively.\n",
    "    \"\"\"\n",
    "    epsilons = np.arange(max_e, 0.0-step_e, -step_e)[:-1]\n",
    "    N1s = []\n",
    "    N2s = []\n",
    "    NUss = []\n",
    "    NUss_clssc = []\n",
    "    flagged = 1\n",
    "    old_perc = 0\n",
    "    for epsilon in epsilons:\n",
    "        p1 = epsilon/3\n",
    "        Uz2 = tensor(qeye(2),rz(2*math.acos(sqrt(p1/epsilon))))\n",
    "        Uz1 = tensor(rz(2*math.acos(sqrt(epsilon))),qeye(2))\n",
    "        U = Ux*Uz2*Uz1*Uxb\n",
    "        W = U*D0*U.dag()\n",
    "        me = math.ceil(1/sqrt(epsilon))\n",
    "        N1 = 0\n",
    "        N2 = 0\n",
    "        NUs = []\n",
    "        NUs_clssc = []\n",
    "        for i in range(nb_agnts):\n",
    "            NU = 0\n",
    "            fnd = False\n",
    "            while not fnd:\n",
    "                R1 = tensor(basis(2,0),basis(2,0))\n",
    "                m = random.randint(0,me)\n",
    "                NU+=3*m\n",
    "                R1 = U*R1\n",
    "                for j in range(m):\n",
    "                    R1 = Uz1b*R1\n",
    "                    R1 = W*R1\n",
    "                res = measure(R1)[0]\n",
    "                if res<=flagged:\n",
    "                    fnd = True\n",
    "                    if res==0:\n",
    "                        N1+=1\n",
    "                    else:\n",
    "                        N2+=1\n",
    "            NUs+=[NU]\n",
    "            if clssc:\n",
    "                NU = 0\n",
    "                fnd = False\n",
    "                while not fnd:\n",
    "                    NU+=1\n",
    "                    R1 = tensor(basis(2,0),basis(2,0))\n",
    "                    R1 = U*R1\n",
    "                    res = measure(R1)[0]\n",
    "                    if res<=flagged:\n",
    "                        fnd = True\n",
    "                NUs_clssc+=[NU]\n",
    "        NUss+=[NUs]\n",
    "        NUss_clssc+=[NUs_clssc]\n",
    "        N1s+=[N1]\n",
    "        N2s+=[N2]\n",
    "        perc = 100*(1-epsilon/epsilons[0])\n",
    "        if perc >= old_perc+10:\n",
    "            old_perc = 10*int(perc/10)\n",
    "            print(int(perc),\"%\")\n",
    "    print(\"done\")\n",
    "    if clssc:\n",
    "        return(epsilons, NUss, NUss_clssc, N1s, N2s)\n",
    "    else:\n",
    "        return(epsilons, NUss, N1s, N2s)"
   ]
  },
  {
   "cell_type": "code",
   "execution_count": 731,
   "metadata": {
    "scrolled": true
   },
   "outputs": [
    {
     "name": "stdout",
     "output_type": "stream",
     "text": [
      "10 %\n",
      "20 %\n",
      "30 %\n",
      "40 %\n",
      "50 %\n",
      "60 %\n",
      "70 %\n",
      "80 %\n",
      "90 %\n",
      "done\n"
     ]
    }
   ],
   "source": [
    "epsilons, NUss = simulation_rankone(0.002, 0.10, 1000)[:2]\n",
    "NUss_mean = []\n",
    "for NUs in NUss:\n",
    "    NUss_mean+=[np.mean(NUs)]"
   ]
  },
  {
   "cell_type": "code",
   "execution_count": 740,
   "metadata": {},
   "outputs": [
    {
     "data": {
      "image/png": "[encoded data removed]",
      "text/plain": [
       "<matplotlib.figure.Figure at 0x8cd7990630>"
      ]
     },
     "metadata": {},
     "output_type": "display_data"
    }
   ],
   "source": [
    "plt.plot(epsilons, NUss_mean)\n",
    "\n",
    "plt.xlabel('$\\epsilon$')\n",
    "plt.ylabel('$N_U$')\n",
    "plt.grid(True)\n",
    "plt.show()"
   ]
  },
  {
   "cell_type": "code",
   "execution_count": 524,
   "metadata": {
    "scrolled": true
   },
   "outputs": [
    {
     "name": "stdout",
     "output_type": "stream",
     "text": [
      "10 %\n",
      "20 %\n",
      "30 %\n",
      "40 %\n",
      "50 %\n",
      "60 %\n",
      "70 %\n",
      "80 %\n",
      "90 %\n",
      "done\n"
     ]
    }
   ],
   "source": [
    "epsilonsb, NUssb, NUssb_classc = simulation_rankone(0.0005, 0.05, 1000, True)[:3]\n",
    "NUssb_mean = []\n",
    "for NUs in NUssb:\n",
    "    NUssb_mean+=[np.mean(NUs)]\n",
    "NUssb_classc_mean = []\n",
    "for NUs in NUssb_classc:\n",
    "    NUssb_classc_mean+=[np.mean(NUs)]"
   ]
  },
  {
   "cell_type": "code",
   "execution_count": 741,
   "metadata": {
    "scrolled": true
   },
   "outputs": [
    {
     "data": {
      "image/png": "[encoded data removed]",
      "text/plain": [
       "<matplotlib.figure.Figure at 0x8cd7990e80>"
      ]
     },
     "metadata": {},
     "output_type": "display_data"
    }
   ],
   "source": [
    "plt.plot(epsilonsb, NUssb_mean)\n",
    "plt.plot(epsilonsb, NUssb_classc_mean)\n",
    "\n",
    "plt.xlabel('$\\epsilon$')\n",
    "plt.ylabel('$N_U$')\n",
    "plt.grid(True)\n",
    "plt.show()"
   ]
  },
  {
   "cell_type": "markdown",
   "metadata": {},
   "source": [
    "We clearly get the quadratic seperation between the classical agents and the quantum agents as expected, proving by simulation the quantum-enhancement."
   ]
  },
  {
   "cell_type": "markdown",
   "metadata": {},
   "source": [
    "<h1>Rank-two Reflecting PS</h1>"
   ]
  },
  {
   "cell_type": "markdown",
   "metadata": {},
   "source": [
    "We showed in the previous section how quantum-enhancement of the RPS model allowed to keep the good reactivity of the agent to environment changes. Let us now show another good feature of the PS the quantum-enhancement preserves, the nice interplay between planning and real-time action selection.\n",
    "\n",
    "Indeed, in a more general case than the rank-one RPS, the ergodic MCs of the percept-specific subnetworks of the ECM don't completely mix in one step. This is because the mixing time of the MC (the number of applications of the transition matrix $P$ on an initial distribution to get a *good* approximation of the stationary distribtion) is inversely dependent of the spectral gap $\\delta = 1 - |\\lambda|$ (where $\\lambda$ is the largest eigenvalue of $P$ in absolute value after 1). But this mixing time is precisely the planning in the future that the agent performs as the more the MC is mixed, the better the stationary distribution is approximated and the more accurate is the planning of the agent. The mixing time or the number of application of $P$ (or $W(P)$ for the quantum agent) is determined by the spectral gap $\\delta$ scaling as $\\tilde{O}(1/\\sqrt{\\delta})$ for the quantum RPS agent and as $\\tilde{O}(1/\\delta)$ for the classical RPS agent.\n",
    "\n",
    "To show these dependencies, we consider a transition matrix $P$ with eigenvalues 1 and $\\lambda$, with $\\lambda$ set arbitrarily through a transformation of the rank-on transition matrix we had above:\n",
    "\\begin{split}\\begin{pmatrix}\n",
    "p_1+\\lambda & p_1 & p_1 & p_1\\\\\n",
    "p_2-\\lambda & p_2 & p_2 & p_2\\\\\n",
    "p_3 & p_3 & p_3 & p_3\\\\\n",
    "p_4 & p_4 & p_4 & p_4\n",
    "\\end{pmatrix}\\end{split}\n",
    "where $(p_1, p_2, p_3, p_4)$ refers to the stationary distribution in the previous case.\n",
    "\n",
    "Then the simplifications made in the first part disappear, we need to define different unitaries $U_1$ and $U_{\\{2,3,4\\}}$ for the first and {second, third and fourth} percepts respectively and apply the general Szegedy quantum walk operator and Phase Estimation algorithm. The stationary distribution becomes $(\\frac{p_1}{1-\\lambda}, p_2-p_1\\times \\frac{\\lambda}{1-\\lambda}, p_3, p_4)$.<br/>\n",
    "The constraints we have on $\\lambda$ (supposing it is positive) are:\n",
    "\\begin{split}\\begin{cases}\n",
    "\\frac{p_1}{1-\\lambda} \\leq 1 \\\\\n",
    "p_2-p_1\\times \\frac{\\lambda}{1-\\lambda} \\geq 0 \\\\\n",
    "p_1+\\lambda \\leq 1 \\\\\n",
    "p_2-\\lambda \\geq 0\n",
    "\\end{cases}\\end{split}\n",
    "\n",
    "Which sum up to $\\lambda \\in [0, min(1-p_1, p_2, \\frac{p_2}{p_1+p_2})]$. That can be further simplified if we take $p_1 < p_2$ and $p_1+p_2 < 1$ to $\\lambda \\in [0, p_2]$"
   ]
  },
  {
   "cell_type": "markdown",
   "metadata": {},
   "source": [
    "Let us first check these previous results on the transition matrix for a given $\\lambda = 0.2$:"
   ]
  },
  {
   "cell_type": "code",
   "execution_count": 697,
   "metadata": {
    "collapsed": true
   },
   "outputs": [],
   "source": [
    "epsilon = 0.6\n",
    "p1 = epsilon/3\n",
    "p2 = epsilon-p1\n",
    "p3 = 1-epsilon\n",
    "distrib = [p1,p2,p3/2,p3/2]"
   ]
  },
  {
   "cell_type": "code",
   "execution_count": 705,
   "metadata": {},
   "outputs": [
    {
     "name": "stdout",
     "output_type": "stream",
     "text": [
      "[[ 0.2  0.2  0.2  0.2]\n",
      " [ 0.4  0.4  0.4  0.4]\n",
      " [ 0.2  0.2  0.2  0.2]\n",
      " [ 0.2  0.2  0.2  0.2]]\n",
      "[[ 0.4  0.2  0.2  0.2]\n",
      " [ 0.2  0.4  0.4  0.4]\n",
      " [ 0.2  0.2  0.2  0.2]\n",
      " [ 0.2  0.2  0.2  0.2]]\n"
     ]
    }
   ],
   "source": [
    "from numpy import linalg as LA\n",
    "Pb = np.array([distrib]*4).transpose()\n",
    "P = np.array([distrib]*4).transpose()\n",
    "lmbd = 0.2\n",
    "Pb[0][0] += lmbd\n",
    "Pb[1][0] -= lmbd\n",
    "print(P)\n",
    "print(Pb)"
   ]
  },
  {
   "cell_type": "code",
   "execution_count": 700,
   "metadata": {
    "scrolled": true
   },
   "outputs": [
    {
     "name": "stdout",
     "output_type": "stream",
     "text": [
      "(array([ 0.+0.j,  1.+0.j,  0.+0.j,  0.-0.j]), array([[-0.85280287+0.j, -0.37796447+0.j, -0.85280287+0.j, -0.85280287-0.j],\n",
      "       [ 0.42640143+0.j, -0.75592895+0.j,  0.42640143+0.j,  0.42640143-0.j],\n",
      "       [ 0.21320072+0.j, -0.37796447+0.j,  0.21320072+0.j,  0.21320072-0.j],\n",
      "       [ 0.21320072+0.j, -0.37796447+0.j,  0.21320072+0.j,  0.21320072-0.j]]))\n"
     ]
    },
    {
     "data": {
      "text/plain": [
       "(array([ 1. ,  0.2,  0. ,  0. ]),\n",
       " array([[-0.48564293, -0.70710678,  0.        , -0.        ],\n",
       "        [-0.6799001 ,  0.70710678, -0.        ,  0.81649658],\n",
       "        [-0.38851434,  0.        , -0.70710678, -0.40824829],\n",
       "        [-0.38851434,  0.        ,  0.70710678, -0.40824829]]))"
      ]
     },
     "execution_count": 700,
     "metadata": {},
     "output_type": "execute_result"
    }
   ],
   "source": [
    "np.set_printoptions(suppress=True)\n",
    "print(LA.eig(P))\n",
    "LA.eig(Pb)"
   ]
  },
  {
   "cell_type": "markdown",
   "metadata": {},
   "source": [
    "As we can see the transition matrix for the previous case has eigenvalue 1 only, whereas the modified transition matrix has eigenvalues 1 and $\\lambda$"
   ]
  },
  {
   "cell_type": "markdown",
   "metadata": {},
   "source": [
    "Now we also check that the stationnary distribution for this new transition matrix is the one we gave above."
   ]
  },
  {
   "cell_type": "code",
   "execution_count": 704,
   "metadata": {
    "scrolled": true
   },
   "outputs": [
    {
     "name": "stdout",
     "output_type": "stream",
     "text": [
      "[0.24999999999999997, 0.35000000000000003, 0.2, 0.2]\n"
     ]
    },
    {
     "data": {
      "text/plain": [
       "array([ 0.25,  0.35,  0.2 ,  0.2 ])"
      ]
     },
     "execution_count": 704,
     "metadata": {},
     "output_type": "execute_result"
    }
   ],
   "source": [
    "stat_distrib = [p1/(1-lmbd),p2-p1*lmbd/(1-lmbd),p3/2,p3/2]\n",
    "print(stat_distrib)\n",
    "Pb.dot(stat_distrib)"
   ]
  },
  {
   "cell_type": "markdown",
   "metadata": {},
   "source": [
    "Here we try to simulate the complete algorithm, which turns out to be a lot more complex than in the previous case."
   ]
  },
  {
   "cell_type": "code",
   "execution_count": 712,
   "metadata": {
    "collapsed": true
   },
   "outputs": [],
   "source": [
    "# we set a variable n of direct use later when we have to set the number of auxilary qubits for the phase estimation algorithm\n",
    "n=2\n",
    "# the value of n sets the spectral gap, and by transitivity the value of the eigenvalue lambda\n",
    "lmbd = 1 - 2**(-2*n)\n",
    "# we set p2 to lambda so we have maximal upper bound on lambda\n",
    "p2 = lmbd\n",
    "# this value of p1 gives a probility for the first action in the stationary distribution equal to 0.25\n",
    "p1 = (1-lmbd)/4\n",
    "p3 = 1-p1-p2\n",
    "distrib = [p1,p2,p3/2,p3/2]\n",
    "\n",
    "R1 = tensor(basis(2,0),basis(2,0))\n",
    "R2 = tensor(basis(2,0),basis(2,0))\n",
    "R = tensor(R1,R2)\n",
    "\n",
    "# coherent controlization to define the unitaries U1 and U{2,3,4}\n",
    "Ut1 = tensor(ry(2*math.acos(sqrt(p1+p2))),qeye(2))\n",
    "Ut2 = controlled_gate(ry(2*math.acos(sqrt(p1/(p1+p2)))), control_value=0)\n",
    "Ut2b = controlled_gate(ry(2*math.acos(sqrt((p1+lmbd)/(p1+p2)))), control_value=0)\n",
    "Ut3 = controlled_gate(ry(pi/2))\n",
    "U1 = Ut3*Ut2b*Ut1\n",
    "U2 = Ut3*Ut2*Ut1"
   ]
  },
  {
   "cell_type": "markdown",
   "metadata": {},
   "source": [
    "*interlude*"
   ]
  },
  {
   "cell_type": "code",
   "execution_count": 707,
   "metadata": {
    "scrolled": true
   },
   "outputs": [
    {
     "data": {
      "text/plain": [
       "array([ 0.25,  0.35,  0.2 ,  0.2 ])"
      ]
     },
     "execution_count": 707,
     "metadata": {},
     "output_type": "execute_result"
    }
   ],
   "source": [
    "delta = 1-lmbd\n",
    "LA.matrix_power(Pb, int(1/delta+math.log2(1/delta))).dot([1,0,0,0])"
   ]
  },
  {
   "cell_type": "code",
   "execution_count": 708,
   "metadata": {
    "scrolled": true
   },
   "outputs": [
    {
     "name": "stdout",
     "output_type": "stream",
     "text": [
      "[[ 0.25  0.25  0.25  0.25]\n",
      " [ 0.35  0.35  0.35  0.35]\n",
      " [ 0.2   0.2   0.2   0.2 ]\n",
      " [ 0.2   0.2   0.2   0.2 ]]\n"
     ]
    }
   ],
   "source": [
    "print(LA.matrix_power(Pb,50))"
   ]
  },
  {
   "cell_type": "markdown",
   "metadata": {},
   "source": [
    "*fin interlude*"
   ]
  },
  {
   "cell_type": "markdown",
   "metadata": {},
   "source": [
    "We check that $U_1$ and $U_{\\{2,3,4\\}}$ work as expected."
   ]
  },
  {
   "cell_type": "code",
   "execution_count": 715,
   "metadata": {
    "scrolled": false
   },
   "outputs": [
    {
     "name": "stdout",
     "output_type": "stream",
     "text": [
      "[ 0.97628121  0.          0.15309311  0.15309311]\n"
     ]
    },
    {
     "data": {
      "text/latex": [
       "Quantum object: dims = [[2, 2], [1, 1]], shape = (4, 1), type = ket\\begin{equation*}\\left(\\begin{array}{*{11}c}0.976\\\\0.0\\\\0.153\\\\0.153\\\\\\end{array}\\right)\\end{equation*}"
      ],
      "text/plain": [
       "Quantum object: dims = [[2, 2], [1, 1]], shape = (4, 1), type = ket\n",
       "Qobj data =\n",
       "[[ 0.97628121]\n",
       " [ 0.        ]\n",
       " [ 0.15309311]\n",
       " [ 0.15309311]]"
      ]
     },
     "execution_count": 715,
     "metadata": {},
     "output_type": "execute_result"
    }
   ],
   "source": [
    "print(np.sqrt([p1+lmbd,p2-lmbd,p3/2,p3/2]))\n",
    "U1*R1"
   ]
  },
  {
   "cell_type": "code",
   "execution_count": 716,
   "metadata": {
    "scrolled": false
   },
   "outputs": [
    {
     "name": "stdout",
     "output_type": "stream",
     "text": [
      "[ 0.125       0.96824584  0.15309311  0.15309311]\n"
     ]
    },
    {
     "data": {
      "text/latex": [
       "Quantum object: dims = [[2, 2], [1, 1]], shape = (4, 1), type = ket\\begin{equation*}\\left(\\begin{array}{*{11}c}0.125\\\\0.968\\\\0.153\\\\0.153\\\\\\end{array}\\right)\\end{equation*}"
      ],
      "text/plain": [
       "Quantum object: dims = [[2, 2], [1, 1]], shape = (4, 1), type = ket\n",
       "Qobj data =\n",
       "[[ 0.125     ]\n",
       " [ 0.96824584]\n",
       " [ 0.15309311]\n",
       " [ 0.15309311]]"
      ]
     },
     "execution_count": 716,
     "metadata": {},
     "output_type": "execute_result"
    }
   ],
   "source": [
    "print(np.sqrt(distrib))\n",
    "U2*R2"
   ]
  },
  {
   "cell_type": "markdown",
   "metadata": {},
   "source": [
    "Now we can construct $U_p$. For that we can apply $Id \\otimes U_2$ followed by a controlled $U_1 \\times U_2^\\dagger$ when the state in the first register is $00=c_1$."
   ]
  },
  {
   "cell_type": "code",
   "execution_count": 717,
   "metadata": {
    "collapsed": true
   },
   "outputs": [],
   "source": [
    "U2dc00 = tensor(tensor(fock_dm(2, 0), fock_dm(2, 0)),U2.dag()-tensor(qeye(2),qeye(2)))+tensor(tensor(qeye(2),qeye(2)),tensor(qeye(2),qeye(2)))\n",
    "U1c00 = tensor(tensor(fock_dm(2, 0), fock_dm(2, 0)),U1-tensor(qeye(2),qeye(2)))+tensor(tensor(qeye(2),qeye(2)),tensor(qeye(2),qeye(2)))"
   ]
  },
  {
   "cell_type": "code",
   "execution_count": 718,
   "metadata": {
    "scrolled": false
   },
   "outputs": [
    {
     "data": {
      "text/latex": [
       "Quantum object: dims = [[2, 2, 2, 2], [2, 2, 2, 2]], shape = (16, 16), type = oper, isherm = False\\begin{equation*}\\left(\\begin{array}{*{11}c}0.125 & 0.968 & 0.153 & 0.153 & 0.0 & \\cdots & 0.0 & 0.0 & 0.0 & 0.0 & 0.0\\\\-0.968 & 0.125 & -0.153 & 0.153 & 0.0 & \\cdots & 0.0 & 0.0 & 0.0 & 0.0 & 0.0\\\\-0.028 & -0.215 & 0.690 & 0.690 & 0.0 & \\cdots & 0.0 & 0.0 & 0.0 & 0.0 & 0.0\\\\0.215 & -0.028 & -0.690 & 0.690 & 0.0 & \\cdots & 0.0 & 0.0 & 0.0 & 0.0 & 0.0\\\\0.0 & 0.0 & 0.0 & 0.0 & 1.0 & \\cdots & 0.0 & 0.0 & 0.0 & 0.0 & 0.0\\\\\\vdots & \\vdots & \\vdots & \\vdots & \\vdots & \\ddots & \\vdots & \\vdots & \\vdots & \\vdots & \\vdots\\\\0.0 & 0.0 & 0.0 & 0.0 & 0.0 & \\cdots & 1.0 & 0.0 & 0.0 & 0.0 & 0.0\\\\0.0 & 0.0 & 0.0 & 0.0 & 0.0 & \\cdots & 0.0 & 1.0 & 0.0 & 0.0 & 0.0\\\\0.0 & 0.0 & 0.0 & 0.0 & 0.0 & \\cdots & 0.0 & 0.0 & 1.0 & 0.0 & 0.0\\\\0.0 & 0.0 & 0.0 & 0.0 & 0.0 & \\cdots & 0.0 & 0.0 & 0.0 & 1.0 & 0.0\\\\0.0 & 0.0 & 0.0 & 0.0 & 0.0 & \\cdots & 0.0 & 0.0 & 0.0 & 0.0 & 1.0\\\\\\end{array}\\right)\\end{equation*}"
      ],
      "text/plain": [
       "Quantum object: dims = [[2, 2, 2, 2], [2, 2, 2, 2]], shape = (16, 16), type = oper, isherm = False\n",
       "Qobj data =\n",
       "[[ 0.125       0.96824584  0.15309311  0.15309311  0.          0.          0.\n",
       "   0.          0.          0.          0.          0.          0.          0.\n",
       "   0.          0.        ]\n",
       " [-0.96824584  0.125      -0.15309311  0.15309311  0.          0.          0.\n",
       "   0.          0.          0.          0.          0.          0.          0.\n",
       "   0.          0.        ]\n",
       " [-0.0277208  -0.21472438  0.69033506  0.69033506  0.          0.          0.\n",
       "   0.          0.          0.          0.          0.          0.          0.\n",
       "   0.          0.        ]\n",
       " [ 0.21472438 -0.0277208  -0.69033506  0.69033506  0.          0.          0.\n",
       "   0.          0.          0.          0.          0.          0.          0.\n",
       "   0.          0.        ]\n",
       " [ 0.          0.          0.          0.          1.          0.          0.\n",
       "   0.          0.          0.          0.          0.          0.          0.\n",
       "   0.          0.        ]\n",
       " [ 0.          0.          0.          0.          0.          1.          0.\n",
       "   0.          0.          0.          0.          0.          0.          0.\n",
       "   0.          0.        ]\n",
       " [ 0.          0.          0.          0.          0.          0.          1.\n",
       "   0.          0.          0.          0.          0.          0.          0.\n",
       "   0.          0.        ]\n",
       " [ 0.          0.          0.          0.          0.          0.          0.\n",
       "   1.          0.          0.          0.          0.          0.          0.\n",
       "   0.          0.        ]\n",
       " [ 0.          0.          0.          0.          0.          0.          0.\n",
       "   0.          1.          0.          0.          0.          0.          0.\n",
       "   0.          0.        ]\n",
       " [ 0.          0.          0.          0.          0.          0.          0.\n",
       "   0.          0.          1.          0.          0.          0.          0.\n",
       "   0.          0.        ]\n",
       " [ 0.          0.          0.          0.          0.          0.          0.\n",
       "   0.          0.          0.          1.          0.          0.          0.\n",
       "   0.          0.        ]\n",
       " [ 0.          0.          0.          0.          0.          0.          0.\n",
       "   0.          0.          0.          0.          1.          0.          0.\n",
       "   0.          0.        ]\n",
       " [ 0.          0.          0.          0.          0.          0.          0.\n",
       "   0.          0.          0.          0.          0.          1.          0.\n",
       "   0.          0.        ]\n",
       " [ 0.          0.          0.          0.          0.          0.          0.\n",
       "   0.          0.          0.          0.          0.          0.          1.\n",
       "   0.          0.        ]\n",
       " [ 0.          0.          0.          0.          0.          0.          0.\n",
       "   0.          0.          0.          0.          0.          0.          0.\n",
       "   1.          0.        ]\n",
       " [ 0.          0.          0.          0.          0.          0.          0.\n",
       "   0.          0.          0.          0.          0.          0.          0.\n",
       "   0.          1.        ]]"
      ]
     },
     "execution_count": 718,
     "metadata": {},
     "output_type": "execute_result"
    }
   ],
   "source": [
    "U2dc00"
   ]
  },
  {
   "cell_type": "code",
   "execution_count": 719,
   "metadata": {
    "scrolled": false
   },
   "outputs": [
    {
     "data": {
      "text/latex": [
       "Quantum object: dims = [[2, 2, 2, 2], [2, 2, 2, 2]], shape = (16, 16), type = oper, isherm = False\\begin{equation*}\\left(\\begin{array}{*{11}c}0.976 & 0.0 & -0.217 & 0.0 & 0.0 & \\cdots & 0.0 & 0.0 & 0.0 & 0.0 & 0.0\\\\0.0 & 0.976 & 0.0 & -0.217 & 0.0 & \\cdots & 0.0 & 0.0 & 0.0 & 0.0 & 0.0\\\\0.153 & -0.153 & 0.690 & -0.690 & 0.0 & \\cdots & 0.0 & 0.0 & 0.0 & 0.0 & 0.0\\\\0.153 & 0.153 & 0.690 & 0.690 & 0.0 & \\cdots & 0.0 & 0.0 & 0.0 & 0.0 & 0.0\\\\0.0 & 0.0 & 0.0 & 0.0 & 1.0 & \\cdots & 0.0 & 0.0 & 0.0 & 0.0 & 0.0\\\\\\vdots & \\vdots & \\vdots & \\vdots & \\vdots & \\ddots & \\vdots & \\vdots & \\vdots & \\vdots & \\vdots\\\\0.0 & 0.0 & 0.0 & 0.0 & 0.0 & \\cdots & 1.0 & 0.0 & 0.0 & 0.0 & 0.0\\\\0.0 & 0.0 & 0.0 & 0.0 & 0.0 & \\cdots & 0.0 & 1.0 & 0.0 & 0.0 & 0.0\\\\0.0 & 0.0 & 0.0 & 0.0 & 0.0 & \\cdots & 0.0 & 0.0 & 1.0 & 0.0 & 0.0\\\\0.0 & 0.0 & 0.0 & 0.0 & 0.0 & \\cdots & 0.0 & 0.0 & 0.0 & 1.0 & 0.0\\\\0.0 & 0.0 & 0.0 & 0.0 & 0.0 & \\cdots & 0.0 & 0.0 & 0.0 & 0.0 & 1.0\\\\\\end{array}\\right)\\end{equation*}"
      ],
      "text/plain": [
       "Quantum object: dims = [[2, 2, 2, 2], [2, 2, 2, 2]], shape = (16, 16), type = oper, isherm = False\n",
       "Qobj data =\n",
       "[[ 0.97628121  0.         -0.21650635  0.          0.          0.          0.\n",
       "   0.          0.          0.          0.          0.          0.          0.\n",
       "   0.          0.        ]\n",
       " [ 0.          0.97628121  0.         -0.21650635  0.          0.          0.\n",
       "   0.          0.          0.          0.          0.          0.          0.\n",
       "   0.          0.        ]\n",
       " [ 0.15309311 -0.15309311  0.69033506 -0.69033506  0.          0.          0.\n",
       "   0.          0.          0.          0.          0.          0.          0.\n",
       "   0.          0.        ]\n",
       " [ 0.15309311  0.15309311  0.69033506  0.69033506  0.          0.          0.\n",
       "   0.          0.          0.          0.          0.          0.          0.\n",
       "   0.          0.        ]\n",
       " [ 0.          0.          0.          0.          1.          0.          0.\n",
       "   0.          0.          0.          0.          0.          0.          0.\n",
       "   0.          0.        ]\n",
       " [ 0.          0.          0.          0.          0.          1.          0.\n",
       "   0.          0.          0.          0.          0.          0.          0.\n",
       "   0.          0.        ]\n",
       " [ 0.          0.          0.          0.          0.          0.          1.\n",
       "   0.          0.          0.          0.          0.          0.          0.\n",
       "   0.          0.        ]\n",
       " [ 0.          0.          0.          0.          0.          0.          0.\n",
       "   1.          0.          0.          0.          0.          0.          0.\n",
       "   0.          0.        ]\n",
       " [ 0.          0.          0.          0.          0.          0.          0.\n",
       "   0.          1.          0.          0.          0.          0.          0.\n",
       "   0.          0.        ]\n",
       " [ 0.          0.          0.          0.          0.          0.          0.\n",
       "   0.          0.          1.          0.          0.          0.          0.\n",
       "   0.          0.        ]\n",
       " [ 0.          0.          0.          0.          0.          0.          0.\n",
       "   0.          0.          0.          1.          0.          0.          0.\n",
       "   0.          0.        ]\n",
       " [ 0.          0.          0.          0.          0.          0.          0.\n",
       "   0.          0.          0.          0.          1.          0.          0.\n",
       "   0.          0.        ]\n",
       " [ 0.          0.          0.          0.          0.          0.          0.\n",
       "   0.          0.          0.          0.          0.          1.          0.\n",
       "   0.          0.        ]\n",
       " [ 0.          0.          0.          0.          0.          0.          0.\n",
       "   0.          0.          0.          0.          0.          0.          1.\n",
       "   0.          0.        ]\n",
       " [ 0.          0.          0.          0.          0.          0.          0.\n",
       "   0.          0.          0.          0.          0.          0.          0.\n",
       "   1.          0.        ]\n",
       " [ 0.          0.          0.          0.          0.          0.          0.\n",
       "   0.          0.          0.          0.          0.          0.          0.\n",
       "   0.          1.        ]]"
      ]
     },
     "execution_count": 719,
     "metadata": {},
     "output_type": "execute_result"
    }
   ],
   "source": [
    "U1c00"
   ]
  },
  {
   "cell_type": "markdown",
   "metadata": {},
   "source": [
    "Because we are not in the time-reversible case of the Markov Chain, we need to define the time-reverse transtion matrix $P^*$, for which $p_{ij}^*=p_{ji}(\\pi_P)_i/(\\pi_P)_j$ where $\\pi_P$ denotes the stationary distribution."
   ]
  },
  {
   "cell_type": "code",
   "execution_count": 720,
   "metadata": {
    "scrolled": true
   },
   "outputs": [
    {
     "name": "stdout",
     "output_type": "stream",
     "text": [
      "[0.25, 0.703125, 0.0234375, 0.0234375]\n"
     ]
    }
   ],
   "source": [
    "Pb = np.array([distrib]*4).transpose()\n",
    "Pb[0][0] += lmbd\n",
    "Pb[1][0] -= lmbd\n",
    "stat_distrib = [p1/(1-lmbd),p2-p1*lmbd/(1-lmbd),p3/2,p3/2]\n",
    "print(stat_distrib)"
   ]
  },
  {
   "cell_type": "code",
   "execution_count": 721,
   "metadata": {
    "scrolled": false
   },
   "outputs": [
    {
     "data": {
      "text/plain": [
       "array([[ 0.953125  ,  0.        ,  0.25      ,  0.25      ],\n",
       "       [ 0.04394531,  0.9375    ,  0.703125  ,  0.703125  ],\n",
       "       [ 0.00146484,  0.03125   ,  0.0234375 ,  0.0234375 ],\n",
       "       [ 0.00146484,  0.03125   ,  0.0234375 ,  0.0234375 ]])"
      ]
     },
     "execution_count": 721,
     "metadata": {},
     "output_type": "execute_result"
    }
   ],
   "source": [
    "Pb_rvrs = Pb*np.array(stat_distrib)\n",
    "Pb_rvrs = Pb_rvrs.transpose()/np.array(stat_distrib)\n",
    "Pb_rvrs"
   ]
  },
  {
   "cell_type": "markdown",
   "metadata": {},
   "source": [
    "Cohrent controlization is then needed again to define $P^*$'s unitaries."
   ]
  },
  {
   "cell_type": "code",
   "execution_count": 722,
   "metadata": {
    "collapsed": true
   },
   "outputs": [],
   "source": [
    "prv1 = Pb_rvrs[:,0]\n",
    "prv2 = Pb_rvrs[:,1]\n",
    "prv3 = Pb_rvrs[:,2]\n",
    "\n",
    "Urt1 = tensor(ry(2*math.acos(sqrt(prv1[0]+prv1[1]))),qeye(2))\n",
    "Urt1b = tensor(ry(2*math.acos(sqrt(prv2[0]+prv2[1]))),qeye(2))\n",
    "Urt1c = tensor(ry(2*math.acos(sqrt(prv3[0]+prv3[1]))),qeye(2))\n",
    "Urt2 = controlled_gate(ry(2*math.acos(sqrt(prv1[0]/(prv1[0]+prv1[1])))), control_value=0)\n",
    "Urt2b = controlled_gate(ry(2*math.acos(sqrt(prv2[0]/(prv2[0]+prv2[1])))), control_value=0)\n",
    "Urt2c = controlled_gate(ry(2*math.acos(sqrt(prv3[0]/(prv3[0]+prv3[1])))), control_value=0)\n",
    "Urt3 = controlled_gate(ry(pi/2))\n",
    "Ur1 = Urt3*Urt2*Urt1\n",
    "Ur2 = Urt3*Urt2b*Urt1b\n",
    "Ur3 = Urt3*Urt2c*Urt1c"
   ]
  },
  {
   "cell_type": "code",
   "execution_count": 723,
   "metadata": {},
   "outputs": [
    {
     "name": "stdout",
     "output_type": "stream",
     "text": [
      "[ 0.97628121  0.20963137  0.03827328  0.03827328]\n"
     ]
    },
    {
     "data": {
      "text/latex": [
       "Quantum object: dims = [[2, 2], [1, 1]], shape = (4, 1), type = ket\\begin{equation*}\\left(\\begin{array}{*{11}c}0.976\\\\0.210\\\\0.038\\\\0.038\\\\\\end{array}\\right)\\end{equation*}"
      ],
      "text/plain": [
       "Quantum object: dims = [[2, 2], [1, 1]], shape = (4, 1), type = ket\n",
       "Qobj data =\n",
       "[[ 0.97628121]\n",
       " [ 0.20963137]\n",
       " [ 0.03827328]\n",
       " [ 0.03827328]]"
      ]
     },
     "execution_count": 723,
     "metadata": {},
     "output_type": "execute_result"
    }
   ],
   "source": [
    "print(np.sqrt(prv1))\n",
    "Ur1*R1"
   ]
  },
  {
   "cell_type": "code",
   "execution_count": 724,
   "metadata": {},
   "outputs": [
    {
     "name": "stdout",
     "output_type": "stream",
     "text": [
      "[ 0.          0.96824584  0.1767767   0.1767767 ]\n"
     ]
    },
    {
     "data": {
      "text/latex": [
       "Quantum object: dims = [[2, 2], [1, 1]], shape = (4, 1), type = ket\\begin{equation*}\\left(\\begin{array}{*{11}c}0.0\\\\0.968\\\\0.177\\\\0.177\\\\\\end{array}\\right)\\end{equation*}"
      ],
      "text/plain": [
       "Quantum object: dims = [[2, 2], [1, 1]], shape = (4, 1), type = ket\n",
       "Qobj data =\n",
       "[[ 0.        ]\n",
       " [ 0.96824584]\n",
       " [ 0.1767767 ]\n",
       " [ 0.1767767 ]]"
      ]
     },
     "execution_count": 724,
     "metadata": {},
     "output_type": "execute_result"
    }
   ],
   "source": [
    "print(np.sqrt(prv2))\n",
    "Ur2*R1"
   ]
  },
  {
   "cell_type": "code",
   "execution_count": 725,
   "metadata": {
    "scrolled": true
   },
   "outputs": [
    {
     "name": "stdout",
     "output_type": "stream",
     "text": [
      "[ 0.5         0.83852549  0.15309311  0.15309311]\n"
     ]
    },
    {
     "data": {
      "text/latex": [
       "Quantum object: dims = [[2, 2], [1, 1]], shape = (4, 1), type = ket\\begin{equation*}\\left(\\begin{array}{*{11}c}0.500\\\\0.839\\\\0.153\\\\0.153\\\\\\end{array}\\right)\\end{equation*}"
      ],
      "text/plain": [
       "Quantum object: dims = [[2, 2], [1, 1]], shape = (4, 1), type = ket\n",
       "Qobj data =\n",
       "[[ 0.5       ]\n",
       " [ 0.83852549]\n",
       " [ 0.15309311]\n",
       " [ 0.15309311]]"
      ]
     },
     "execution_count": 725,
     "metadata": {},
     "output_type": "execute_result"
    }
   ],
   "source": [
    "print(np.sqrt(prv3))\n",
    "Ur3*R1"
   ]
  },
  {
   "cell_type": "code",
   "execution_count": 726,
   "metadata": {
    "collapsed": true
   },
   "outputs": [],
   "source": [
    "Ur1c00 = tensor(tensor(fock_dm(2, 0), fock_dm(2, 0)),Ur1*Ur3.dag()-tensor(qeye(2),qeye(2)))+tensor(tensor(qeye(2),qeye(2)),tensor(qeye(2),qeye(2)))\n",
    "Ur2c01 = tensor(tensor(fock_dm(2, 0), fock_dm(2, 1)),Ur2*Ur3.dag()-tensor(qeye(2),qeye(2)))+tensor(tensor(qeye(2),qeye(2)),tensor(qeye(2),qeye(2)))"
   ]
  },
  {
   "cell_type": "markdown",
   "metadata": {},
   "source": [
    "Now we have everything to define the Szegedy Walk operator $W(P)$."
   ]
  },
  {
   "cell_type": "code",
   "execution_count": 628,
   "metadata": {
    "collapsed": true
   },
   "outputs": [],
   "source": [
    "Up = U1c00*U2dc00*tensor(tensor(qeye(2),qeye(2)),U2)\n",
    "Vp_temp = Ur1c00*Ur2c01*tensor(tensor(qeye(2),qeye(2)),Ur3)\n",
    "Vp = swap(N=4, targets=[0, 2])*swap(N=4, targets=[1, 3])*Vp_temp*swap(N=4, targets=[0, 2])*swap(N=4, targets=[1, 3])\n",
    "null = tensor(basis(2,0),basis(2,0))\n",
    "D0 = 2*null*null.dag()-tensor(qeye(2),qeye(2))\n",
    "refA = Up*tensor(tensor(qeye(2),qeye(2)),D0)*Up.dag()\n",
    "refB = Vp*tensor(D0,tensor(qeye(2),qeye(2)))*Vp.dag()\n",
    "W = refB*refA"
   ]
  },
  {
   "cell_type": "markdown",
   "metadata": {},
   "source": [
    "Let us now check that the state |$\\pi'_P$> $= \\sum\\nolimits_{i} \\sqrt{(\\pi_P)_i} $ |$c_i$>$_I $ $U_i$|$0$>$_{II}$ is a 1-eigenstate of $W(P)$"
   ]
  },
  {
   "cell_type": "code",
   "execution_count": 630,
   "metadata": {},
   "outputs": [
    {
     "data": {
      "text/latex": [
       "Quantum object: dims = [[2, 2], [1, 1]], shape = (4, 1), type = ket\\begin{equation*}\\left(\\begin{array}{*{11}c}0.500\\\\0.839\\\\0.153\\\\0.153\\\\\\end{array}\\right)\\end{equation*}"
      ],
      "text/plain": [
       "Quantum object: dims = [[2, 2], [1, 1]], shape = (4, 1), type = ket\n",
       "Qobj data =\n",
       "[[ 0.5       ]\n",
       " [ 0.83852549]\n",
       " [ 0.15309311]\n",
       " [ 0.15309311]]"
      ]
     },
     "execution_count": 630,
     "metadata": {},
     "output_type": "execute_result"
    }
   ],
   "source": [
    "stat_1 = sqrt(p1/(1-lmbd))*tensor(basis(2,0),basis(2,0))+sqrt(p2-p1*lmbd/(1-lmbd))*tensor(basis(2,0),basis(2,1))+sqrt(p3/2)*tensor(basis(2,1),basis(2,0))+sqrt(p3/2)*tensor(basis(2,1),basis(2,1))\n",
    "stat_1"
   ]
  },
  {
   "cell_type": "code",
   "execution_count": 727,
   "metadata": {
    "scrolled": false
   },
   "outputs": [
    {
     "data": {
      "text/latex": [
       "Quantum object: dims = [[2, 2, 2, 2], [1, 1, 1, 1]], shape = (16, 1), type = ket\\begin{equation*}\\left(\\begin{array}{*{11}c}0.488\\\\0.0\\\\0.077\\\\0.077\\\\0.105\\\\\\vdots\\\\0.023\\\\0.019\\\\0.148\\\\0.023\\\\0.023\\\\\\end{array}\\right)\\end{equation*}"
      ],
      "text/plain": [
       "Quantum object: dims = [[2, 2, 2, 2], [1, 1, 1, 1]], shape = (16, 1), type = ket\n",
       "Qobj data =\n",
       "[[ 0.4881406 ]\n",
       " [ 0.        ]\n",
       " [ 0.07654655]\n",
       " [ 0.07654655]\n",
       " [ 0.10481569]\n",
       " [ 0.81189882]\n",
       " [ 0.12837247]\n",
       " [ 0.12837247]\n",
       " [ 0.01913664]\n",
       " [ 0.14823177]\n",
       " [ 0.0234375 ]\n",
       " [ 0.0234375 ]\n",
       " [ 0.01913664]\n",
       " [ 0.14823177]\n",
       " [ 0.0234375 ]\n",
       " [ 0.0234375 ]]"
      ]
     },
     "execution_count": 727,
     "metadata": {},
     "output_type": "execute_result"
    }
   ],
   "source": [
    "stat = Up*tensor(stat_1,R2)\n",
    "stat"
   ]
  },
  {
   "cell_type": "code",
   "execution_count": 728,
   "metadata": {
    "scrolled": false
   },
   "outputs": [
    {
     "data": {
      "text/latex": [
       "Quantum object: dims = [[2, 2, 2, 2], [1, 1, 1, 1]], shape = (16, 1), type = ket\\begin{equation*}\\left(\\begin{array}{*{11}c}0.488\\\\0.0\\\\0.077\\\\0.077\\\\0.105\\\\\\vdots\\\\0.023\\\\0.019\\\\0.148\\\\0.023\\\\0.023\\\\\\end{array}\\right)\\end{equation*}"
      ],
      "text/plain": [
       "Quantum object: dims = [[2, 2, 2, 2], [1, 1, 1, 1]], shape = (16, 1), type = ket\n",
       "Qobj data =\n",
       "[[ 0.4881406 ]\n",
       " [ 0.        ]\n",
       " [ 0.07654655]\n",
       " [ 0.07654655]\n",
       " [ 0.10481569]\n",
       " [ 0.81189882]\n",
       " [ 0.12837247]\n",
       " [ 0.12837247]\n",
       " [ 0.01913664]\n",
       " [ 0.14823177]\n",
       " [ 0.0234375 ]\n",
       " [ 0.0234375 ]\n",
       " [ 0.01913664]\n",
       " [ 0.14823177]\n",
       " [ 0.0234375 ]\n",
       " [ 0.0234375 ]]"
      ]
     },
     "execution_count": 728,
     "metadata": {},
     "output_type": "execute_result"
    }
   ],
   "source": [
    "W*stat"
   ]
  },
  {
   "cell_type": "markdown",
   "metadata": {},
   "source": [
    "Here I try to get some intuition on the Szegedy walk operator."
   ]
  },
  {
   "cell_type": "code",
   "execution_count": 667,
   "metadata": {
    "scrolled": false
   },
   "outputs": [
    {
     "data": {
      "text/plain": [
       "array([ 0.4881406 ,  0.        ,  0.07654655,  0.07654655,  0.10481569,\n",
       "        0.81189882,  0.12837247,  0.12837247,  0.01913664,  0.14823177,\n",
       "        0.0234375 ,  0.0234375 ,  0.01913664,  0.14823177,  0.0234375 ,\n",
       "        0.0234375 ])"
      ]
     },
     "execution_count": 667,
     "metadata": {},
     "output_type": "execute_result"
    }
   ],
   "source": [
    "stat_array = np.abs(stat.full().reshape(16))\n",
    "stat_array"
   ]
  },
  {
   "cell_type": "code",
   "execution_count": 668,
   "metadata": {
    "scrolled": false
   },
   "outputs": [
    {
     "data": {
      "image/png": "[encoded data removed]",
      "text/plain": [
       "<matplotlib.figure.Figure at 0x50126f4f28>"
      ]
     },
     "metadata": {},
     "output_type": "display_data"
    }
   ],
   "source": [
    "delta = 1 - lmbd\n",
    "statps = []\n",
    "powrs = []\n",
    "dists = []\n",
    "for i in range(0,int(5/delta)):\n",
    "    powrs+=[i]\n",
    "    statp = np.abs((W**i*R).full()).reshape(16)\n",
    "    statps = [statp]\n",
    "    dist = np.mean(np.abs(statp-stat_array))\n",
    "    dists += [dist]\n",
    "    \n",
    "plt.plot(powrs, dists)\n",
    "plt.axvline(x=1/delta+2*n, c='r')\n",
    "plt.axvline(x=1/delta-2*n, c='r')\n",
    "plt.axvline(x=1/delta, c='g')\n",
    "\n",
    "plt.xlabel('power')\n",
    "plt.ylabel('distance')\n",
    "plt.grid(True)\n",
    "plt.show()"
   ]
  },
  {
   "cell_type": "markdown",
   "metadata": {},
   "source": [
    "It doesn't seem to act as the transition matrix $P$ in the sense that it doesn't mix the MC until convergence to the stationary distribution (or more precisely the quantum state that encodes it) but seems to oscillate around it."
   ]
  },
  {
   "cell_type": "markdown",
   "metadata": {},
   "source": [
    "Let us code the approxmate reflexion opertor (ARO) over the stationary distribution. For this we need a certain number of auxillary qubits that depends on the spectral gap with the following relation $O(log_2(1/\\sqrt{\\delta}))$. The construction of lambda made above assures that for that value $log_2(1/\\sqrt{\\delta}) = n$. Thus we need $n+1$ auxilliary qubits."
   ]
  },
  {
   "cell_type": "code",
   "execution_count": 680,
   "metadata": {
    "collapsed": true
   },
   "outputs": [],
   "source": [
    "k=n+1\n",
    "\n",
    "# initialization of the ancilla qubits\n",
    "Aux = basis(2,0)\n",
    "for i in range(k):\n",
    "    Aux = tensor(basis(2,0),Aux)\n",
    "nullaux = Aux\n",
    "\n",
    "# construction of multi-qubit gates\n",
    "eye = qeye(2)\n",
    "eyes = [eye]\n",
    "H = hadamard_transform()\n",
    "Hs = [H]\n",
    "for i in range(n+6):\n",
    "    eye = tensor(qeye(2),eye)\n",
    "    eyes += [eye]\n",
    "    H = tensor(hadamard_transform(),H)\n",
    "    Hs += [H]\n",
    "\n",
    "# contruction of controlled powers of W\n",
    "temp = W\n",
    "Wcs = [tensor(eyes[k-1],tensor(fock_dm(2,1),temp-eyes[3])+eyes[4])]\n",
    "for i in range(1,k):\n",
    "    temp = temp**2\n",
    "    Wcs += [tensor(eyes[k-i-1],tensor(fock_dm(2,1),tensor(eyes[i-1],temp)-eyes[i+3])+eyes[i+4])]\n",
    "Wcs+=[tensor(fock_dm(2,1),tensor(eyes[k-1],temp)-eyes[k+3])+eyes[k+4]]\n",
    "\n",
    "Mem = tensor(Aux, R)\n",
    "\n",
    "# Kitaev's modified phase detection circuit\n",
    "PD = tensor(Hs[k],eyes[3])\n",
    "for Wc in Wcs:\n",
    "    PD = Wc*PD\n",
    "PD = tensor(Hs[k],eyes[3])*PD\n",
    "\n",
    "# approximate reflection operator\n",
    "D0aux = 2*nullaux*nullaux.dag()-eyes[k]\n",
    "ARO = PD.dag()*tensor(D0aux,eyes[3])*PD"
   ]
  },
  {
   "cell_type": "markdown",
   "metadata": {},
   "source": [
    "We check that the reflection works as expected by applying it to the stationary distribution (it is indeed an exact reflection)."
   ]
  },
  {
   "cell_type": "code",
   "execution_count": 669,
   "metadata": {
    "scrolled": true
   },
   "outputs": [
    {
     "data": {
      "text/plain": [
       "array([ 0.23828125,  0.        ,  0.00585938,  0.00585938,  0.01098633,\n",
       "        0.65917969,  0.01647949,  0.01647949,  0.00036621,  0.02197266,\n",
       "        0.00054932,  0.00054932,  0.00036621,  0.02197266,  0.00054932,\n",
       "        0.00054932])"
      ]
     },
     "execution_count": 669,
     "metadata": {},
     "output_type": "execute_result"
    }
   ],
   "source": [
    "np.power(np.abs(stat.full().reshape(16)),2)"
   ]
  },
  {
   "cell_type": "code",
   "execution_count": 675,
   "metadata": {},
   "outputs": [
    {
     "data": {
      "text/plain": [
       "array([[ 0.23828125,  0.        ,  0.00585938,  0.00585938],\n",
       "       [ 0.01098633,  0.65917969,  0.01647949,  0.01647949],\n",
       "       [ 0.00036621,  0.02197266,  0.00054932,  0.00054932],\n",
       "       [ 0.00036621,  0.02197266,  0.00054932,  0.00054932]])"
      ]
     },
     "execution_count": 675,
     "metadata": {},
     "output_type": "execute_result"
    }
   ],
   "source": [
    "out = np.array(measure(ARO*tensor(Aux,stat))[1])\n",
    "out = out.reshape(int(len(out)/16),16)\n",
    "out = np.sum(out, axis = 0).reshape(4,4)\n",
    "out"
   ]
  },
  {
   "cell_type": "markdown",
   "metadata": {},
   "source": [
    "Finally we apply the Grover \"one-shot\" amplitude amplification algorithm that, as the name indicates, needs only one application of the two reflections (over the flagged actions of cumulated probability 0.25 and over the stationary distribution) to output a distribution with probability one among flagged actions. The only flagged action being $c_1$ (with probability 0.25 in the stationary distribution), we should get as output $[1, 0, 0, 0]$."
   ]
  },
  {
   "cell_type": "code",
   "execution_count": 681,
   "metadata": {},
   "outputs": [
    {
     "data": {
      "text/latex": [
       "Quantum object: dims = [[2, 2, 2, 2, 2, 2, 2, 2], [1, 1, 1, 1, 1, 1, 1, 1]], shape = (256, 1), type = ket\\begin{equation*}\\left(\\begin{array}{*{11}c}0.974\\\\0.0\\\\0.153\\\\0.153\\\\1.896\\times10^{-04}\\\\\\vdots\\\\1.891\\times10^{-04}\\\\1.544\\times10^{-04}\\\\0.001\\\\1.891\\times10^{-04}\\\\1.891\\times10^{-04}\\\\\\end{array}\\right)\\end{equation*}"
      ],
      "text/plain": [
       "Quantum object: dims = [[2, 2, 2, 2, 2, 2, 2, 2], [1, 1, 1, 1, 1, 1, 1, 1]], shape = (256, 1), type = ket\n",
       "Qobj data =\n",
       "[[ 0.97363242]\n",
       " [ 0.        ]\n",
       " [ 0.15267775]\n",
       " [ 0.15267775]\n",
       " [ 0.00018959]\n",
       " [ 0.00146853]\n",
       " [ 0.0002322 ]\n",
       " [ 0.0002322 ]\n",
       " [ 0.00003461]\n",
       " [ 0.00026812]\n",
       " [ 0.00004239]\n",
       " [ 0.00004239]\n",
       " [ 0.00003461]\n",
       " [ 0.00026812]\n",
       " [ 0.00004239]\n",
       " [ 0.00004239]\n",
       " [-0.00013027]\n",
       " [ 0.        ]\n",
       " [ 0.00041536]\n",
       " [ 0.00041536]\n",
       " [-0.00078632]\n",
       " [ 0.00017494]\n",
       " [-0.0002322 ]\n",
       " [-0.0002322 ]\n",
       " [-0.00014356]\n",
       " [ 0.00003194]\n",
       " [-0.00004239]\n",
       " [-0.00004239]\n",
       " [-0.00014356]\n",
       " [ 0.00003194]\n",
       " [-0.00004239]\n",
       " [-0.00004239]\n",
       " [-0.00029577]\n",
       " [ 0.        ]\n",
       " [ 0.00094307]\n",
       " [ 0.00094307]\n",
       " [-0.00178531]\n",
       " [ 0.0003972 ]\n",
       " [-0.00052719]\n",
       " [-0.00052719]\n",
       " [-0.00032595]\n",
       " [ 0.00007252]\n",
       " [-0.00009625]\n",
       " [-0.00009625]\n",
       " [-0.00032595]\n",
       " [ 0.00007252]\n",
       " [-0.00009625]\n",
       " [-0.00009625]\n",
       " [ 0.00071642]\n",
       " [ 0.        ]\n",
       " [ 0.00011234]\n",
       " [ 0.00011234]\n",
       " [-0.00005128]\n",
       " [-0.0003972 ]\n",
       " [-0.0000628 ]\n",
       " [-0.0000628 ]\n",
       " [-0.00000936]\n",
       " [-0.00007252]\n",
       " [-0.00001147]\n",
       " [-0.00001147]\n",
       " [-0.00000936]\n",
       " [-0.00007252]\n",
       " [-0.00001147]\n",
       " [-0.00001147]\n",
       " [-0.00153288]\n",
       " [ 0.        ]\n",
       " [ 0.00488761]\n",
       " [ 0.00488761]\n",
       " [-0.00925267]\n",
       " [ 0.00205853]\n",
       " [-0.00273226]\n",
       " [-0.00273226]\n",
       " [-0.0016893 ]\n",
       " [ 0.00037583]\n",
       " [-0.00049884]\n",
       " [-0.00049884]\n",
       " [-0.0016893 ]\n",
       " [ 0.00037583]\n",
       " [-0.00049884]\n",
       " [-0.00049884]\n",
       " [ 0.00371297]\n",
       " [ 0.        ]\n",
       " [ 0.00058224]\n",
       " [ 0.00058224]\n",
       " [-0.00026576]\n",
       " [-0.00205853]\n",
       " [-0.00032548]\n",
       " [-0.00032548]\n",
       " [-0.00004852]\n",
       " [-0.00037583]\n",
       " [-0.00005942]\n",
       " [-0.00005942]\n",
       " [-0.00004852]\n",
       " [-0.00037583]\n",
       " [-0.00005942]\n",
       " [-0.00005942]\n",
       " [ 0.0084302 ]\n",
       " [ 0.        ]\n",
       " [ 0.00132196]\n",
       " [ 0.00132196]\n",
       " [-0.00060339]\n",
       " [-0.00467383]\n",
       " [-0.000739  ]\n",
       " [-0.000739  ]\n",
       " [-0.00011016]\n",
       " [-0.00085332]\n",
       " [-0.00013492]\n",
       " [-0.00013492]\n",
       " [-0.00011016]\n",
       " [-0.00085332]\n",
       " [-0.00013492]\n",
       " [-0.00013492]\n",
       " [ 0.0004146 ]\n",
       " [ 0.        ]\n",
       " [-0.00132196]\n",
       " [-0.00132196]\n",
       " [ 0.00250258]\n",
       " [-0.00055677]\n",
       " [ 0.000739  ]\n",
       " [ 0.000739  ]\n",
       " [ 0.00045691]\n",
       " [-0.00010165]\n",
       " [ 0.00013492]\n",
       " [ 0.00013492]\n",
       " [ 0.00045691]\n",
       " [-0.00010165]\n",
       " [ 0.00013492]\n",
       " [ 0.00013492]\n",
       " [-0.00153288]\n",
       " [ 0.        ]\n",
       " [ 0.00488761]\n",
       " [ 0.00488761]\n",
       " [-0.00925267]\n",
       " [ 0.00205853]\n",
       " [-0.00273226]\n",
       " [-0.00273226]\n",
       " [-0.0016893 ]\n",
       " [ 0.00037583]\n",
       " [-0.00049884]\n",
       " [-0.00049884]\n",
       " [-0.0016893 ]\n",
       " [ 0.00037583]\n",
       " [-0.00049884]\n",
       " [-0.00049884]\n",
       " [ 0.00371297]\n",
       " [ 0.        ]\n",
       " [ 0.00058224]\n",
       " [ 0.00058224]\n",
       " [-0.00026576]\n",
       " [-0.00205853]\n",
       " [-0.00032548]\n",
       " [-0.00032548]\n",
       " [-0.00004852]\n",
       " [-0.00037583]\n",
       " [-0.00005942]\n",
       " [-0.00005942]\n",
       " [-0.00004852]\n",
       " [-0.00037583]\n",
       " [-0.00005942]\n",
       " [-0.00005942]\n",
       " [ 0.0084302 ]\n",
       " [ 0.        ]\n",
       " [ 0.00132196]\n",
       " [ 0.00132196]\n",
       " [-0.00060339]\n",
       " [-0.00467383]\n",
       " [-0.000739  ]\n",
       " [-0.000739  ]\n",
       " [-0.00011016]\n",
       " [-0.00085332]\n",
       " [-0.00013492]\n",
       " [-0.00013492]\n",
       " [-0.00011016]\n",
       " [-0.00085332]\n",
       " [-0.00013492]\n",
       " [-0.00013492]\n",
       " [ 0.0004146 ]\n",
       " [ 0.        ]\n",
       " [-0.00132196]\n",
       " [-0.00132196]\n",
       " [ 0.00250258]\n",
       " [-0.00055677]\n",
       " [ 0.000739  ]\n",
       " [ 0.000739  ]\n",
       " [ 0.00045691]\n",
       " [-0.00010165]\n",
       " [ 0.00013492]\n",
       " [ 0.00013492]\n",
       " [ 0.00045691]\n",
       " [-0.00010165]\n",
       " [ 0.00013492]\n",
       " [ 0.00013492]\n",
       " [ 0.04369083]\n",
       " [ 0.        ]\n",
       " [ 0.00685127]\n",
       " [ 0.00685127]\n",
       " [-0.00312716]\n",
       " [-0.02422289]\n",
       " [-0.00382998]\n",
       " [-0.00382998]\n",
       " [-0.00057094]\n",
       " [-0.00442248]\n",
       " [-0.00069925]\n",
       " [-0.00069925]\n",
       " [-0.00057094]\n",
       " [-0.00442248]\n",
       " [-0.00069925]\n",
       " [-0.00069925]\n",
       " [ 0.00214873]\n",
       " [ 0.        ]\n",
       " [-0.00685127]\n",
       " [-0.00685127]\n",
       " [ 0.01297003]\n",
       " [-0.00288557]\n",
       " [ 0.00382998]\n",
       " [ 0.00382998]\n",
       " [ 0.00236799]\n",
       " [-0.00052683]\n",
       " [ 0.00069925]\n",
       " [ 0.00069925]\n",
       " [ 0.00236799]\n",
       " [-0.00052683]\n",
       " [ 0.00069925]\n",
       " [ 0.00069925]\n",
       " [ 0.00487863]\n",
       " [ 0.        ]\n",
       " [-0.01555561]\n",
       " [-0.01555561]\n",
       " [ 0.02944809]\n",
       " [-0.0065516 ]\n",
       " [ 0.00869585]\n",
       " [ 0.00869585]\n",
       " [ 0.00537646]\n",
       " [-0.00119615]\n",
       " [ 0.00158764]\n",
       " [ 0.00158764]\n",
       " [ 0.00537646]\n",
       " [-0.00119615]\n",
       " [ 0.00158764]\n",
       " [ 0.00158764]\n",
       " [-0.01181712]\n",
       " [ 0.        ]\n",
       " [-0.00185307]\n",
       " [-0.00185307]\n",
       " [ 0.00084581]\n",
       " [ 0.0065516 ]\n",
       " [ 0.0010359 ]\n",
       " [ 0.0010359 ]\n",
       " [ 0.00015442]\n",
       " [ 0.00119615]\n",
       " [ 0.00018913]\n",
       " [ 0.00018913]\n",
       " [ 0.00015442]\n",
       " [ 0.00119615]\n",
       " [ 0.00018913]\n",
       " [ 0.00018913]]"
      ]
     },
     "execution_count": 681,
     "metadata": {},
     "output_type": "execute_result"
    }
   ],
   "source": [
    "null = tensor(basis(2,0),basis(2,0))\n",
    "refAct = eyes[k+4]-tensor(eyes[k],tensor(2*null*null.dag(),eyes[1]))\n",
    "Memb = tensor(Aux, stat)\n",
    "ARO*refAct*Memb"
   ]
  },
  {
   "cell_type": "code",
   "execution_count": 682,
   "metadata": {},
   "outputs": [
    {
     "data": {
      "text/plain": [
       "array([ 0.95152907,  0.00079433,  0.0238383 ,  0.0238383 ])"
      ]
     },
     "execution_count": 682,
     "metadata": {},
     "output_type": "execute_result"
    }
   ],
   "source": [
    "mes = np.array(measure(ARO*refAct*Memb)[1])\n",
    "mes = mes.reshape(int(len(mes)/16),16)\n",
    "mes = np.sum(mes, axis = 0).reshape(4,4)\n",
    "np.sum(mes, axis = 0)"
   ]
  },
  {
   "cell_type": "markdown",
   "metadata": {},
   "source": [
    "Close enough."
   ]
  },
  {
   "cell_type": "markdown",
   "metadata": {},
   "source": [
    "<h3>Showing the $O(1/\\sqrt{\\delta})$ dependency</h3>"
   ]
  },
  {
   "cell_type": "markdown",
   "metadata": {},
   "source": [
    "In order to get a good granularity of our deltas, we don't take only integer values of $n$ (formally the number of ancilla qubits). What we do is we take integer values of the number of calls $c$ to the Szegedy walk operator $W$, and the *logical* number of ancilla qubits associated to that number will be $k = log_2(c)$ (so actually $\\lceil log_2(c) \\rceil$ ancilla qubits are used). Then all we have to do is not to allow a number of calls to $W$ that is greater than $c$ in the Phase Detection algorithm, as if we would have taken $k$ ancilla qubits.\n",
    "\n",
    "Let us run the simlation:"
   ]
  },
  {
   "cell_type": "code",
   "execution_count": 20,
   "metadata": {
    "scrolled": false
   },
   "outputs": [
    {
     "name": "stdout",
     "output_type": "stream",
     "text": [
      "6 %\n",
      "9 %\n",
      "12 %\n",
      "15 %\n",
      "18 %\n",
      "21 %\n",
      "25 %\n",
      "28 %\n",
      "31 %\n",
      "34 %\n",
      "37 %\n",
      "40 %\n",
      "46 %\n",
      "50 %\n",
      "53 %\n",
      "56 %\n",
      "59 %\n",
      "62 %\n",
      "65 %\n",
      "68 %\n",
      "71 %\n",
      "75 %\n",
      "78 %\n",
      "81 %\n",
      "87 %\n",
      "90 %\n",
      "93 %\n",
      "96 %\n",
      "done\n"
     ]
    }
   ],
   "source": [
    "R1 = tensor(basis(2,0),basis(2,0))\n",
    "R2 = tensor(basis(2,0),basis(2,0))\n",
    "R = tensor(R1,R2)\n",
    "\n",
    "Ut3 = controlled_gate(ry(pi/2))\n",
    "Urt3 = controlled_gate(ry(pi/2))\n",
    "\n",
    "null = tensor(basis(2,0),basis(2,0))\n",
    "D0 = 2*null*null.dag()-tensor(qeye(2),qeye(2))\n",
    "\n",
    "n = 5\n",
    "nb_agnts = 1000\n",
    "\n",
    "Aux = basis(2,0)\n",
    "Auxs = [Aux]\n",
    "for i in range(n+1):\n",
    "    Aux = tensor(basis(2,0),Aux)\n",
    "    Auxs += [Aux]\n",
    "\n",
    "eye = qeye(2)\n",
    "eyes = [eye]\n",
    "H = hadamard_transform()\n",
    "Hs = [H]\n",
    "for i in range(n+6):\n",
    "    eye = tensor(qeye(2),eye)\n",
    "    eyes += [eye]\n",
    "    H = tensor(hadamard_transform(),H)\n",
    "    Hs += [H]\n",
    "\n",
    "NUss = []\n",
    "deltas = []\n",
    "old_perc = 0\n",
    "for c in range(2,2**n):\n",
    "    k = math.log2(c)\n",
    "    lmbd = 1 - 2**(-2*k)\n",
    "    deltas += [1-lmbd]\n",
    "    p2 = lmbd\n",
    "    p1 = (1-lmbd)/4\n",
    "    p3 = 1-p1-p2\n",
    "    distrib = [p1,p2,p3/2,p3/2]\n",
    "\n",
    "    Ut1 = tensor(ry(2*math.acos(sqrt(p1+p2))),qeye(2))\n",
    "    Ut2 = controlled_gate(ry(2*math.acos(sqrt(p1/(p1+p2)))), control_value=0)\n",
    "    Ut2b = controlled_gate(ry(2*math.acos(sqrt((p1+lmbd)/(p1+p2)))), control_value=0)\n",
    "\n",
    "    U1 = Ut3*Ut2b*Ut1\n",
    "    U2 = Ut3*Ut2*Ut1\n",
    "\n",
    "    U1tempc00 = tensor(tensor(fock_dm(2, 0), fock_dm(2, 0)),U1*U2.dag()-eyes[1])+eyes[3]\n",
    "\n",
    "    Pb = np.array([distrib]*4).transpose()\n",
    "    Pb[0][0] += lmbd\n",
    "    Pb[1][0] -= lmbd\n",
    "    stat_distrib = [p1/(1-lmbd),p2-p1*lmbd/(1-lmbd),p3/2,p3/2]\n",
    "    Pb_rvrs = Pb*np.array(stat_distrib)\n",
    "    Pb_rvrs = Pb_rvrs.transpose()/np.array(stat_distrib)\n",
    "\n",
    "    prv1 = Pb_rvrs[:,0]\n",
    "    prv2 = Pb_rvrs[:,1]\n",
    "    prv3 = Pb_rvrs[:,2]\n",
    "\n",
    "    Urt1 = tensor(ry(2*math.acos(sqrt(prv1[0]+prv1[1]))),qeye(2))\n",
    "    Urt1b = tensor(ry(2*math.acos(sqrt(prv2[0]+prv2[1]))),qeye(2))\n",
    "    Urt1c = tensor(ry(2*math.acos(sqrt(prv3[0]+prv3[1]))),qeye(2))\n",
    "    Urt2 = controlled_gate(ry(2*math.acos(sqrt(prv1[0]/(prv1[0]+prv1[1])))), control_value=0)\n",
    "    Urt2b = controlled_gate(ry(2*math.acos(sqrt(prv2[0]/(prv2[0]+prv2[1])))), control_value=0)\n",
    "    Urt2c = controlled_gate(ry(2*math.acos(sqrt(prv3[0]/(prv3[0]+prv3[1])))), control_value=0)\n",
    "\n",
    "    Ur1 = Urt3*Urt2*Urt1\n",
    "    Ur2 = Urt3*Urt2b*Urt1b\n",
    "    Ur3 = Urt3*Urt2c*Urt1c\n",
    "\n",
    "    Ur1c00 = tensor(tensor(fock_dm(2, 0), fock_dm(2, 0)),Ur1*Ur3.dag()-eyes[1])+eyes[3]\n",
    "    Ur2c01 = tensor(tensor(fock_dm(2, 0), fock_dm(2, 1)),Ur2*Ur3.dag()-eyes[1])+eyes[3]\n",
    "\n",
    "    Up = U1tempc00*tensor(eyes[1],U2)\n",
    "    Vp_temp = Ur1c00*Ur2c01*tensor(eyes[1],Ur3)\n",
    "    Vp = swap(N=4, targets=[0, 2])*swap(N=4, targets=[1, 3])*Vp_temp*swap(N=4, targets=[0, 2])*swap(N=4, targets=[1, 3])\n",
    "    refA = Up*tensor(eyes[1],D0)*Up.dag()\n",
    "    refB = Vp*tensor(D0,eyes[1])*Vp.dag()\n",
    "    W = refB*refA\n",
    "    \n",
    "    kk = math.ceil(k)\n",
    "    # nb ancilla = kk+1, position kk in lists\n",
    "\n",
    "    nullaux = Auxs[kk]\n",
    "\n",
    "    temp = W\n",
    "    Ws = [tensor(fock_dm(2,1),temp-eyes[3])+eyes[4]]\n",
    "    for i in range(1,kk):\n",
    "        temp = temp**2\n",
    "        Ws += [tensor(fock_dm(2,1),tensor(eyes[i-1],temp)-eyes[i+3])+eyes[i+4]]\n",
    "    temp = temp**2\n",
    "    Ws+=[tensor(fock_dm(2,1),tensor(eyes[kk-1],temp)-eyes[kk+3])+eyes[kk+4]]\n",
    "\n",
    "    def gen_Wcs(Ws, c, kk):\n",
    "        tmp = random.randint(0, c)\n",
    "        binary = [int(x) for x in bin(tmp)[2:]][::-1]\n",
    "        binary = binary + [0]*(kk+1-len(binary))\n",
    "        Wcs=[]\n",
    "        for i, b in enumerate(binary[:-1]):\n",
    "            if b:\n",
    "                Wcs += [tensor(eyes[kk-i-1],Ws[i])]\n",
    "            else:\n",
    "                Wcs += [False]\n",
    "        if binary[-1]:\n",
    "            Wcs += [Ws[-1]]\n",
    "        return(Wcs, tmp*4)\n",
    "\n",
    "    D0aux = 2*nullaux*nullaux.dag()-eyes[kk]\n",
    "    stat_1 = sqrt(p1/(1-lmbd))*tensor(basis(2,0),basis(2,0))+sqrt(p2-p1*lmbd/(1-lmbd))*tensor(basis(2,0),basis(2,1))+sqrt(p3/2)*tensor(basis(2,1),basis(2,0))+sqrt(p3/2)*tensor(basis(2,1),basis(2,1))\n",
    "    stat = Up*tensor(stat_1,R2)\n",
    "    refAct = eyes[kk+4]-tensor(eyes[kk],tensor(2*null*null.dag(),eyes[1]))\n",
    "    Memb = tensor(Auxs[kk], stat)\n",
    "    \n",
    "    NUs = []\n",
    "    for a in range(nb_agnts):\n",
    "        NU = 0\n",
    "        fnd = False\n",
    "        while not fnd:\n",
    "            Wcs, nb_calls = gen_Wcs(Ws, c, kk)\n",
    "            NU += nb_calls\n",
    "\n",
    "            PD = tensor(Hs[kk],eyes[3])\n",
    "            for Wc in Wcs:\n",
    "                if Wc!=False:\n",
    "                    PD = Wc*PD\n",
    "            PD = tensor(Hs[kk],eyes[3])*PD\n",
    "            ARO = PD.dag()*tensor(D0aux,eyes[3])*PD\n",
    "\n",
    "            res = np.array(measure(ARO*refAct*Memb)[1])\n",
    "            res = res.reshape(int(len(res)/16),16)\n",
    "            res = np.sum(res, axis = 0).reshape(4,4)\n",
    "            res = np.sum(res, axis = 0)\n",
    "            mes = measure(Qobj(np.sqrt(res)))[0]\n",
    "            if mes == 0:\n",
    "                fnd = True\n",
    "        NUs+=[NU]\n",
    "    NUss+=[NUs]\n",
    "    perc = 100*c/2**n\n",
    "    if perc >= old_perc+5:\n",
    "        old_perc = 20*int(perc/20)\n",
    "        print(int(perc),\"%\")\n",
    "print(\"done\")"
   ]
  },
  {
   "cell_type": "code",
   "execution_count": 46,
   "metadata": {
    "scrolled": false
   },
   "outputs": [
    {
     "data": {
      "image/png": "[encoded data removed]",
      "text/plain": [
       "<matplotlib.figure.Figure at 0xc63a01b518>"
      ]
     },
     "metadata": {},
     "output_type": "display_data"
    }
   ],
   "source": [
    "NUss_mean = []\n",
    "NUss_std = []\n",
    "for NUs in NUss:\n",
    "    NUss_mean+=[np.mean(NUs)]\n",
    "    NUss_std+=[np.std(NUs)]\n",
    "    \n",
    "plt.figure(figsize=(17,8))\n",
    "plt.plot(deltas, NUss_mean)\n",
    "plt.errorbar(deltas, NUss_mean, NUss_std, ecolor='c')\n",
    "\n",
    "plt.xlabel('$\\delta$')\n",
    "plt.ylabel('$N_U$')\n",
    "plt.grid(True)\n",
    "plt.show()"
   ]
  },
  {
   "cell_type": "code",
   "execution_count": 25,
   "metadata": {},
   "outputs": [
    {
     "data": {
      "image/png": "[encoded data removed]",
      "text/plain": [
       "<matplotlib.figure.Figure at 0xc639aa0d30>"
      ]
     },
     "metadata": {},
     "output_type": "display_data"
    }
   ],
   "source": [
    "NUss_mean = []\n",
    "for NUs in NUss:\n",
    "    NUss_mean+=[np.mean(NUs)]\n",
    "\n",
    "plt.figure(figsize=(15,8))\n",
    "plt.plot(deltas, NUss_mean)\n",
    "\n",
    "plt.xlabel('$\\delta$')\n",
    "plt.ylabel('$N_U$')\n",
    "plt.grid(True)\n",
    "plt.show()"
   ]
  },
  {
   "cell_type": "code",
   "execution_count": 79,
   "metadata": {
    "scrolled": false
   },
   "outputs": [
    {
     "data": {
      "image/png": "[encoded data removed]",
      "text/plain": [
       "<matplotlib.figure.Figure at 0xc63a6ce940>"
      ]
     },
     "metadata": {},
     "output_type": "display_data"
    },
    {
     "name": "stdout",
     "output_type": "stream",
     "text": [
      "Curve fitting coefficients :  [ 5.33175083 -4.42095543]\n",
      "Coefficient of determination R^2 :  0.991175270468\n"
     ]
    }
   ],
   "source": [
    "NUss_mean = []\n",
    "for NUs in NUss:\n",
    "    NUss_mean+=[np.mean(NUs)]\n",
    "\n",
    "curve_fit = np.polyfit(1/np.sqrt(deltas), NUss_mean, 1, full=True)\n",
    "coeff = curve_fit[0]\n",
    "res = curve_fit[1][0]\n",
    "rsqr = 1 - res / (len(NUss_mean) * np.var(NUss_mean))\n",
    "\n",
    "plt.figure(figsize=(15,8))\n",
    "plt.plot(deltas[5:], NUss_mean[5:])\n",
    "plt.plot(deltas[5:], coeff[0]/np.sqrt(deltas[5:])+coeff[1])\n",
    "\n",
    "plt.xlabel('$\\delta$')\n",
    "plt.ylabel('$N_U$')\n",
    "plt.grid(True)\n",
    "plt.show()\n",
    "print(\"Curve fitting coefficients : \", coeff)\n",
    "print('Coefficient of determination R^2 : ', rsqr)"
   ]
  },
  {
   "cell_type": "code",
   "execution_count": null,
   "metadata": {
    "collapsed": true
   },
   "outputs": [],
   "source": []
  }
 ],
 "metadata": {
  "kernelspec": {
   "display_name": "Python 3",
   "language": "python",
   "name": "python3"
  },
  "language_info": {
   "codemirror_mode": {
    "name": "ipython",
    "version": 3
   },
   "file_extension": ".py",
   "mimetype": "text/x-python",
   "name": "python",
   "nbconvert_exporter": "python",
   "pygments_lexer": "ipython3",
   "version": "3.5.4"
  }
 },
 "nbformat": 4,
 "nbformat_minor": 2
}
